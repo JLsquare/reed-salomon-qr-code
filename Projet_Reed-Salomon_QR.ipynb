{
 "cells": [
  {
   "cell_type": "markdown",
   "metadata": {},
   "source": [
    "***\n",
    "\n",
    "\n",
    "# Projet : Reed-Salomon, QR code et correction d’erreur\n",
    "***\n",
    "***\n",
    "\n",
    "\n",
    "Jean-Loup Mellion  \n",
    "Gatien Da Rocha"
   ]
  },
  {
   "cell_type": "code",
   "execution_count": 304,
   "metadata": {},
   "outputs": [],
   "source": [
    "import numpy as np\n",
    "import matplotlib.pyplot as plt\n",
    "%matplotlib inline\n",
    "import pandas as pd\n",
    "import itertools"
   ]
  },
  {
   "cell_type": "markdown",
   "metadata": {},
   "source": [
    "# Rappel interpolation polynomiale\n",
    "\n",
    "Avant de s'attaquer a Reed-Salomon, il est important de rappeler le principe de l'interpolation polynomiale. L'interpolation polynomiale est une méthode mathématique permettant de trouver un polynôme qui passe par un ensemble de points donnés.\n",
    "\n",
    "Pour cela, nous allons utiliser la méthode de Lagrange. Cette méthode permet de trouver un polynôme de degré n-1 passant par n points donnés.\n",
    "\n",
    "### Polynôme de Lagrange"
   ]
  },
  {
   "cell_type": "code",
   "execution_count": 305,
   "metadata": {},
   "outputs": [],
   "source": [
    "def polynome_base_lagrange(var_x: int, i: int, x_array: np.ndarray, y_array: np.ndarray) -> float:\n",
    "    \"\"\"\n",
    "    Cette fonction calcule le polynome de base de lagrange, c'est à dire le produit des termes (x-x_j)/(x_i-x_j) pour j != i\n",
    "    :param var_x: int, la valeur de x pour laquelle on veut calculer le polynome de base\n",
    "    :param x_array: np.ndarray, les valeurs de x\n",
    "    :param y_array: np.ndarray, les valeurs de y\n",
    "    :param i: int, l'indice du polynome de base\n",
    "    :return: float, le polynome de base de lagrange\n",
    "    \"\"\"\n",
    "    res = 1\n",
    "    for j in range(len(x_array)):\n",
    "        if j != i:\n",
    "            res = res * (var_x - x_array[j]) / (x_array[i] - x_array[j])\n",
    "    return y_array[i]*res"
   ]
  },
  {
   "cell_type": "code",
   "execution_count": 306,
   "metadata": {},
   "outputs": [],
   "source": [
    "def poly_lagrange(var_x: int, x_array: np.ndarray, y_array: np.ndarray) -> float:\n",
    "    \"\"\"\n",
    "    Cette fonction calcule le polynome de lagrange pour un x donné, c'est à dire la somme des polynomes de base de lagrange\n",
    "    :param var_x: int, la valeur de x pour laquelle on veut calculer le polynome de lagrange\n",
    "    :param x_array: np.ndarray, les valeurs de x\n",
    "    :param y_array: np.ndarray, les valeurs de y\n",
    "    \"\"\"\n",
    "    sum = 0\n",
    "    for i in range(len(x_array)):\n",
    "        sum = sum + polynome_base_lagrange(var_x, i, x_array, y_array)\n",
    "    return sum"
   ]
  },
  {
   "cell_type": "markdown",
   "metadata": {},
   "source": [
    "Nous allons maintenant tester la méthode de Lagrange sur un exemple simple."
   ]
  },
  {
   "cell_type": "code",
   "execution_count": 307,
   "metadata": {},
   "outputs": [
    {
     "name": "stdout",
     "output_type": "stream",
     "text": [
      "x_array: [1, 2, 3, 4, 5, 6, 7]\n",
      "y_array: [6, 9, 4, 2, 0, -19.0, -86.0]\n"
     ]
    }
   ],
   "source": [
    "# On défnit le message à envoyer\n",
    "message = [6, 9, 4, 2, 0]\n",
    "\n",
    "# On encode le message\n",
    "def encode_message(message: list, t: int) -> tuple:\n",
    "    \"\"\"\n",
    "    Cette fonction encode un message en rajoutant de la redondance pour pouvoir corriger des erreurs\n",
    "    :param message: list, le message à encoder\n",
    "    :param t: int, le nombre d'erreurs que l'on veut pouvoir corriger\n",
    "    :return: tuple, les valeurs de x et de y\n",
    "    \"\"\"\n",
    "    x_array = []\n",
    "    for i in range(len(message)):\n",
    "        x_array.append(i+1)\n",
    "\n",
    "    y_array = message\n",
    "    for i in range(t):\n",
    "        y_array.append(poly_lagrange(len(x_array)+i+1, np.array(x_array), np.array(message)))\n",
    "\n",
    "    for i in range(t):\n",
    "        x_array.append(len(x_array)+1)\n",
    "    return x_array, y_array\n",
    "\n",
    "x_array, y_array = encode_message(message, 2)\n",
    "\n",
    "print(\"x_array:\", x_array)\n",
    "print(\"y_array:\", y_array)"
   ]
  },
  {
   "cell_type": "code",
   "execution_count": 308,
   "metadata": {},
   "outputs": [
    {
     "name": "stdout",
     "output_type": "stream",
     "text": [
      "message_erreur: [0, 9, 4, 2, 0, -19.0, -86.0]\n",
      "erreur: True\n",
      "corrected_message: [316.0, 249.0, 182.0, 115.0, 48.0]\n"
     ]
    }
   ],
   "source": [
    "# Ensuite on peut retirer 1 ou 2 valeurs du message pour simuler des erreurs\n",
    "message_erreur = y_array.copy()\n",
    "message_erreur[0] = 0\n",
    "\n",
    "print(\"message_erreur:\", message_erreur)\n",
    "\n",
    "def detect_erreur(k: int, y_array: list) -> bool:\n",
    "    \"\"\"\n",
    "    Cette fonction détecte si il y a une erreur dans le message\n",
    "    :param k: int, le nombre de valeurs à retirer du message\n",
    "    :param y_array: list, les valeurs de y\n",
    "    :return: bool, True si il y a une erreur, False sinon\n",
    "    \"\"\"\n",
    "    y_array = np.asarray(y_array)\n",
    "    xt = np.arange(len(y_array))\n",
    "    list_s = list(itertools.combinations(xt, k))\n",
    "    res = []\n",
    "    erreur = False\n",
    "    for s in list_s:\n",
    "        s = list(s)\n",
    "        resPol = list(poly_lagrange(xt,s,y_array[s]))\n",
    "        if resPol not in res:\n",
    "            res.append(resPol)\n",
    "    if len(res) > 1:\n",
    "        erreur = True\n",
    "    return erreur\n",
    "\n",
    "\n",
    "def correct_message(k: int, y_array: np.ndarray) -> list:\n",
    "    \"\"\"\n",
    "    Cette fonction corrige un message en retirant k valeurs\n",
    "    :param y_array: np.ndarray, les valeurs de y\n",
    "    :param k: int, le nombre de valeurs à retirer du message\n",
    "    :return: list, le message corrigé\n",
    "    \"\"\"\n",
    "    erreur = detect_erreur(k, y_array)\n",
    "    print(\"erreur:\", erreur)\n",
    "    if erreur:\n",
    "        res_map = {}\n",
    "        combinaison = itertools.combinations(range(len(y_array)), k)\n",
    "\n",
    "        for c in combinaison:\n",
    "            pol = []\n",
    "            c_x = np.delete(np.arange(1, len(y_array) + 1), c)\n",
    "            c_y = np.delete(y_array, c)\n",
    "\n",
    "            for x in c:\n",
    "                pol.append(poly_lagrange(x + 1, c_x, c_y))\n",
    "\n",
    "            pol_tuple = tuple(pol)\n",
    "            if pol_tuple in res_map:\n",
    "                res_map[pol_tuple] += 1\n",
    "            else:\n",
    "                res_map[pol_tuple] = 1\n",
    "\n",
    "        most_common = max(res_map, key=res_map.get)\n",
    "        return list(most_common)\n",
    "    else:\n",
    "        return y_array\n",
    "\n",
    "corrected_message = correct_message(5, message_erreur)\n",
    "print(\"corrected_message:\", corrected_message)"
   ]
  },
  {
   "cell_type": "markdown",
   "metadata": {},
   "source": [
    "# Reed-Salomon\n",
    "\n",
    "Le principale problème de l'interpolation polynomiale avec les messages codés c'est que les y des points de redondances peuvent être bien trop grand, par exemple si on veux encoder un message avec que 1 octet par point, y doit etre compris entre 0 et 255, mais un point de redondance peut être bien plus grand que 255. Pour résoudre ce problème, on utilise le code de Reed-Salomon, qui limite la taille des y a l'aide de modulo.\n",
    "\n",
    "Video explicative : https://www.youtube.com/watch?v=1pQJkt7-R4Q"
   ]
  },
  {
   "cell_type": "markdown",
   "metadata": {},
   "source": [
    "### Initialisation de la table de Galois\n",
    "\n",
    "Implémenté à partir de : https://en.wikiversity.org/wiki/Reed%E2%80%93Solomon_codes_for_coders#Multiplication_with_logarithms, et d'autres sources."
   ]
  },
  {
   "cell_type": "code",
   "execution_count": 309,
   "metadata": {},
   "outputs": [],
   "source": [
    "# Paramètres globaux\n",
    "field_size = 256 # Taille du corps fini GF(2^8), un octet\n",
    "primitive_polynomial = 0x11d  # Polynom primitif pour GF(2^8)\n",
    "\n",
    "# Création des tables de logarithmes et exponentielles pour les opérations dans GF(2^8)\n",
    "def create_gf_tables() -> tuple:\n",
    "    \"\"\"\n",
    "    Cette fonction crée les tables de logarithmes et exponentielles pour les opérations dans GF(2^8)\n",
    "    :return: tuple, les tables de logarithmes et exponentielles\n",
    "    \"\"\"\n",
    "    exp = np.zeros(field_size * 2, dtype=int)\n",
    "    log = np.zeros(field_size, dtype=int)\n",
    "    x = 1\n",
    "    for i in range(field_size - 1):\n",
    "        exp[i] = x\n",
    "        log[x] = i\n",
    "        x <<= 1\n",
    "        if x & field_size:\n",
    "            x ^= primitive_polynomial\n",
    "        exp[i + field_size - 1] = exp[i]\n",
    "    return exp, log\n",
    "\n",
    "exp_table, log_table = create_gf_tables()"
   ]
  },
  {
   "cell_type": "markdown",
   "metadata": {},
   "source": [
    "### Operations sur GF(field_size)\n",
    "\n",
    "Implémenté à partir de : https://en.wikiversity.org/wiki/Reed%E2%80%93Solomon_codes_for_coders#Finite_field_arithmetic, et d'autres sources."
   ]
  },
  {
   "cell_type": "code",
   "execution_count": 310,
   "metadata": {},
   "outputs": [],
   "source": [
    "# Opérations sur GF(2^8)\n",
    "def gf_add(x: int, y: int) -> int:\n",
    "    \"\"\"\n",
    "    Cette fonction réalise l'addition dans GF(2^8), qui est l'opération XOR\n",
    "    :param x: int, le premier nombre\n",
    "    :param y: int, le deuxième nombre\n",
    "    :return: int, le résultat de l'addition\n",
    "    \"\"\"\n",
    "    return x ^ y\n",
    "\n",
    "def gf_sub(x: int, y: int) -> int:\n",
    "    \"\"\"\n",
    "    Cette fonction réalise la soustraction dans GF(2^8), qui est aussi juste l'opération XOR\n",
    "    :param x: int, le premier nombre\n",
    "    :param y: int, le deuxième nombre\n",
    "    :return: int, le résultat de la soustraction\n",
    "    \"\"\"\n",
    "    return x ^ y\n",
    "\n",
    "def gf_mult(x: int, y: int) -> int:\n",
    "    \"\"\"\n",
    "    Cette fonction réalise la multiplication dans GF(2^8), en utilisant les tables de logarithmes et exponentielles\n",
    "    :param x: int, le premier nombre\n",
    "    :param y: int, le deuxième nombre\n",
    "    :return: int, le résultat de la multiplication\n",
    "    \"\"\"\n",
    "    if x == 0 or y == 0:\n",
    "        return 0\n",
    "    return exp_table[log_table[x] + log_table[y]]\n",
    "\n",
    "def gf_div(x: int, y: int) -> int:\n",
    "    \"\"\"\n",
    "    Cette fonction réalise la division dans GF(2^8), en utilisant les tables de logarithmes et exponentielles\n",
    "    :param x: int, le premier nombre\n",
    "    :param y: int, le deuxième nombre\n",
    "    :return: int, le résultat de la division\n",
    "    \"\"\"\n",
    "    if y == 0:\n",
    "        raise ZeroDivisionError()\n",
    "    if x == 0:\n",
    "        return 0\n",
    "    return exp_table[log_table[x] - log_table[y] + field_size - 1]\n",
    "\n",
    "def gf_pow(x: int, power: int) -> int:\n",
    "    \"\"\"\n",
    "    Cette fonction réalise la puissance dans GF(2^8), en utilisant les tables de logarithmes et exponentielles\n",
    "    :param x: int, le nombre\n",
    "    :param power: int, la puissance\n",
    "    :return: int, le résultat de la puissance\n",
    "    \"\"\"\n",
    "    return exp_table[(log_table[x] * power) % (field_size - 1)]\n",
    "\n",
    "def gf_inverse(x: int) -> int:\n",
    "    \"\"\"\n",
    "    Cette fonction calcule l'inverse dans GF(2^8), en utilisant les tables de logarithmes et exponentielles\n",
    "    :param x: int, le nombre\n",
    "    :return: int, l'inverse du nombre\n",
    "    \"\"\"\n",
    "    return exp_table[field_size - 1 - log_table[x]]\n"
   ]
  },
  {
   "cell_type": "code",
   "execution_count": 311,
   "metadata": {},
   "outputs": [
    {
     "name": "stdout",
     "output_type": "stream",
     "text": [
      "Tous les tests passent\n"
     ]
    }
   ],
   "source": [
    "# Tests pour les opérations sur GF(2^8) \n",
    "def test_gf_operations():\n",
    "    \"\"\"\n",
    "    Cette fonction teste les opérations sur GF(2^8)\n",
    "    Validé avec https://hp.vector.co.jp/authors/VA021385/galois_calc.htm\n",
    "    \"\"\"\n",
    "    # Addition et soustraction\n",
    "    assert gf_add(15, 27) == 15 ^ 27\n",
    "    assert gf_sub(15, 27) == 15 ^ 27\n",
    "    \n",
    "    # Multiplication\n",
    "    assert gf_mult(15, 27) == 153\n",
    "    assert gf_mult(0, 15) == 0\n",
    "    assert gf_mult(15, 0) == 0\n",
    "    \n",
    "    # Division\n",
    "    assert gf_div(188, 15) == 216\n",
    "    assert gf_div(188, 1) == 188\n",
    "    \n",
    "    # Puissance\n",
    "    assert gf_pow(15, 1) == 15\n",
    "    assert gf_pow(15, 2) == gf_mult(15, 15)\n",
    "    \n",
    "    # Inversion\n",
    "    assert gf_inverse(15) == 150\n",
    "\n",
    "    print(\"Tous les tests passent\")\n",
    "\n",
    "test_gf_operations()\n"
   ]
  },
  {
   "cell_type": "markdown",
   "metadata": {},
   "source": [
    "### Polynôme de Reed-Salomon"
   ]
  },
  {
   "cell_type": "code",
   "execution_count": 312,
   "metadata": {},
   "outputs": [],
   "source": [
    "def polynome_base_lagrange_rs(x_array: np.ndarray, y_array: np.ndarray, var_x: int, i: int) -> int:\n",
    "    \"\"\"\n",
    "    Cette fonction calcule le polynome de base de lagrange, c'est à dire le produit des termes (x-x_j)/(x_i-x_j) pour j != i\n",
    "    :param x_array: np.ndarray, les valeurs de x\n",
    "    :param y_array: np.ndarray, les valeurs de y\n",
    "    :param var_x: int, la valeur de x pour laquelle on veut calculer le polynome de base\n",
    "    :param i: int, l'indice du polynome de base\n",
    "    :return: int, le polynome de base de lagrange\n",
    "    \"\"\"\n",
    "    res = 1\n",
    "    for j in range(len(x_array)):\n",
    "        if j != i:\n",
    "            res = gf_mult(res, gf_div(var_x-x_array[j], x_array[i]-x_array[j]))\n",
    "    return gf_mult(y_array[i], res)\n",
    "\n",
    "def poly_lagrange_rs(x_array: np.ndarray, y_array: np.ndarray, var_x: int) -> int:\n",
    "    \"\"\"\n",
    "    Cette fonction calcule le polynome de lagrange pour un x donné, c'est à dire la somme des polynomes de base de lagrange\n",
    "    :param x_array: np.ndarray, les valeurs de x\n",
    "    :param y_array: np.ndarray, les valeurs de y\n",
    "    :param var_x: int, la valeur de x pour laquelle on veut calculer le polynome de lagrange\n",
    "    \"\"\"\n",
    "    sum = 0\n",
    "    for i in range(len(x_array)):\n",
    "        sum = gf_add(sum, polynome_base_lagrange_rs(x_array, y_array, var_x, i))\n",
    "    return sum"
   ]
  },
  {
   "cell_type": "code",
   "execution_count": 313,
   "metadata": {},
   "outputs": [
    {
     "name": "stdout",
     "output_type": "stream",
     "text": [
      "x_array: [1, 2, 3, 4, 5, 6, 7]\n",
      "y_array: [6, 9, 4, 2, 0, 189, 231]\n",
      "message_erreur: [0, 9, 0, 2, 0, 189, 231]\n",
      "erreurs localisées: [0, 2]\n",
      "message_corrigé: [41, 9, 3, 2, 0, 189, 231]\n"
     ]
    }
   ],
   "source": [
    "# On défnit le message à envoyer\n",
    "message = [6, 9, 4, 2, 0]\n",
    "\n",
    "# On encode le message\n",
    "def encode_message_rs(message: list, t: int) -> tuple:\n",
    "    \"\"\"\n",
    "    Cette fonction encode un message en rajoutant de la redondance pour pouvoir corriger des erreurs\n",
    "    :param message: list, le message à encoder\n",
    "    :param t: int, le nombre d'erreurs que l'on veut pouvoir corriger\n",
    "    :return: tuple, les valeurs de x et de y\n",
    "    \"\"\"\n",
    "    x_array = []\n",
    "    for i in range(len(message)):\n",
    "        x_array.append(i+1)\n",
    "\n",
    "    y_array = message\n",
    "    for i in range(t):\n",
    "        y_array.append(poly_lagrange_rs(x_array, y_array, len(x_array)+i+1))\n",
    "\n",
    "    for i in range(t):\n",
    "        x_array.append(len(x_array)+1)\n",
    "    return x_array, y_array\n",
    "\n",
    "x_array, y_array = encode_message_rs(message, 2)\n",
    "\n",
    "print(\"x_array:\", x_array)\n",
    "print(\"y_array:\", y_array)\n",
    "\n",
    "# Ensuite on peut retirer 1, 2, 3 ou 4 valeurs du message pour simuler des erreurs\n",
    "message_erreur = y_array.copy()\n",
    "message_erreur[0] = 0\n",
    "message_erreur[2] = 0\n",
    "\n",
    "print(\"message_erreur:\", message_erreur)\n",
    "\n",
    "# On doit localiser les erreurs (pour les retirer des valeurs de x, y pour recalculer le polynome de lagrange)\n",
    "def localiser_erreurs_rs(message: np.ndarray, t: int) -> np.ndarray:\n",
    "    \"\"\"\n",
    "    Cette fonction localise les erreurs dans le message\n",
    "    :param message: np.ndarray, le message reçu\n",
    "    :param t: int, le nombre d'erreurs à corriger\n",
    "    :return: np.ndarray, les indices des erreurs\n",
    "    \"\"\"\n",
    "    # Créer un tableau des indices des éléments du message (1, 2, 3, ...)\n",
    "    xt = np.arange(len(message))\n",
    "\n",
    "    # Générer toutes les combinaisons possibles de indices pour les sous-ensembles de taille len(message) - t (poly degré len(message) - t - 1\n",
    "    combinaisons = itertools.combinations(xt, len(message) - t)\n",
    "\n",
    "    polynomes_trouves = []\n",
    "    erreurs = []\n",
    "\n",
    "    # Parcourir chaque combinaison possible\n",
    "    for combinaison in combinaisons:       \n",
    "        # Calculer les polynômes de Lagrange\n",
    "        polynomes = []\n",
    "        for i in range(len(combinaison)):\n",
    "            polynomes.append(poly_lagrange_rs(xt, message, combinaison[i]))\n",
    "        \n",
    "        # Vérifier si le polynôme n'est pas encore dans la liste des polynômes trouvés\n",
    "        polynome_deja_trouve = False\n",
    "        for polynome in polynomes_trouves:\n",
    "            if polynome == polynomes:\n",
    "                polynome_deja_trouve = True\n",
    "                break\n",
    "        \n",
    "        # Si le polynôme n'est pas encore trouvé, l'ajouter à la liste\n",
    "        if not polynome_deja_trouve:\n",
    "            polynomes_trouves.append(polynomes)\n",
    "        else:\n",
    "            # Sinon, ajouter l'indice de la première valeur de la combinaison à la liste des erreurs\n",
    "            erreurs.append(combinaison[0])\n",
    "\n",
    "    return erreurs\n",
    "\n",
    "erreurs = localiser_erreurs_rs(message_erreur, 2)\n",
    "print(\"erreurs localisées:\", erreurs)\n",
    "\n",
    "# On corrige les erreurs en recalculant les valeurs des erreurs\n",
    "def corriger_erreurs_rs(message: np.ndarray, erreurs: np.ndarray, t: int) -> np.ndarray:\n",
    "    \"\"\"\n",
    "    Corrige les erreurs dans le message\n",
    "    :param message: np.ndarray, le message reçu\n",
    "    :param erreurs: np.ndarray, les indices des erreurs\n",
    "    :param t: int, le nombre d'erreurs à corriger\n",
    "    :return: np.ndarray, le message corrigé\n",
    "    \"\"\"\n",
    "    n = len(message)\n",
    "    indices_corrects = [i for i in range(n) if i not in erreurs]\n",
    "    x_values = np.array(indices_corrects)\n",
    "    y_values = np.array([message[i] for i in indices_corrects])\n",
    "\n",
    "    if len(indices_corrects) < n - t:\n",
    "        raise ValueError(\"Trop d'erreurs pour être corrigées avec les valeurs disponibles.\")\n",
    "\n",
    "    for erreur in erreurs:\n",
    "        message[erreur] = poly_lagrange_rs(x_values, y_values, erreur)\n",
    "\n",
    "    return message\n",
    "\n",
    "message_corrige = corriger_erreurs_rs(message_erreur, erreurs, 2)\n",
    "print(\"message_corrigé:\", message_corrige)"
   ]
  },
  {
   "cell_type": "markdown",
   "metadata": {},
   "source": [
    "# Application dans les QR codes et autres en correction d'erreur"
   ]
  },
  {
   "cell_type": "code",
   "execution_count": 314,
   "metadata": {},
   "outputs": [
    {
     "data": {
      "image/png": "[encoded data removed]",
      "text/plain": [
       "<Figure size 200x200 with 1 Axes>"
      ]
     },
     "metadata": {},
     "output_type": "display_data"
    }
   ],
   "source": [
    "def draw_qr_code(array: np.ndarray, pixel_size: int = 2):\n",
    "    \"\"\"\n",
    "    Cette fonction dessine un tableau 2D de booléens\n",
    "    :param array: np.ndarray, le tableau 2D de booléens\n",
    "    :param pixel_size: int, la taille d'un pixel\n",
    "    \"\"\"\n",
    "    array = np.logical_not(array)\n",
    "    plt.figure(figsize=(array.shape[1]*pixel_size/array.shape[0], pixel_size))\n",
    "    plt.imshow(array, cmap='gray')\n",
    "    plt.axis('off')\n",
    "    plt.show()\n",
    "\n",
    "array = [\n",
    "    [0, 0, 0, 0, 0, 0, 0, 0],\n",
    "    [0, 0, 1, 0, 0, 1, 0, 0],\n",
    "    [0, 0, 1, 0, 0, 1, 0, 0],\n",
    "    [0, 0, 1, 0, 0, 1, 0, 0],\n",
    "    [0, 0, 0, 0, 0, 0, 0, 0],\n",
    "    [0, 1, 0, 0, 0, 0, 1, 0],\n",
    "    [0, 0, 1, 1, 1, 1, 0, 0],\n",
    "    [0, 0, 0, 0, 0, 0, 0, 0],\n",
    "]\n",
    "\n",
    "array = np.array(array, dtype=bool)\n",
    "draw_qr_code(array)"
   ]
  },
  {
   "cell_type": "markdown",
   "metadata": {},
   "source": [
    "### Structure d'un QR code\n",
    "\n",
    "Les QR codes ont une structure bien précise, avec des zones de calibrage, des zones de format, des zones de timing, des zones de données, des zones de correction d'erreur, etc.\n",
    "\n",
    "![QR code](qr-code-structure.png)\n",
    "\n",
    "Ici, nous allons seulement nous intéresser aux zones de données et de correction d'erreur. (version 1 21x21)\n",
    "\n",
    "![QR code](qr-code-pattern.png)\n",
    "\n",
    "Et pour simplifier on va suivre une structure bien plus simple, avec seulement des blocs de 2x4 bits."
   ]
  },
  {
   "cell_type": "code",
   "execution_count": 315,
   "metadata": {},
   "outputs": [
    {
     "name": "stdout",
     "output_type": "stream",
     "text": [
      "x_array: [1, 2, 3, 4, 5, 6, 7, 8, 9, 10, 11, 12, 13, 14, 15, 16, 17, 18]\n",
      "y_array: [12, 0, 72, 101, 108, 108, 111, 32, 87, 111, 114, 108, 100, 33, 235, 111, 96, 133]\n"
     ]
    },
    {
     "data": {
      "image/png": "[encoded data removed]",
      "text/plain": [
       "<Figure size 88.8889x200 with 1 Axes>"
      ]
     },
     "metadata": {},
     "output_type": "display_data"
    }
   ],
   "source": [
    "def encode_message(message: str, t: int) -> np.ndarray:\n",
    "    \"\"\"\n",
    "    This function encodes a message by adding redundancy and converting it to a 2D array of booleans.\n",
    "    :param message: str, the message to encode\n",
    "    :param t: int, the number of errors we want to be able to correct\n",
    "    :return: np.ndarray, the encoded message as a 2D array\n",
    "    \"\"\"\n",
    "    # Encode the message length and message in ASCII\n",
    "    message_length = len(message)\n",
    "    length_encoded = message_length.to_bytes(2, byteorder='little')\n",
    "    message_encoded = message.encode('ascii')\n",
    "    \n",
    "    # Combine the length and message\n",
    "    combined_message = length_encoded + message_encoded\n",
    "    \n",
    "    # Convert the combined message to a numpy array of uint8\n",
    "    message_array = np.frombuffer(combined_message, dtype=np.uint8)\n",
    "    \n",
    "    # Assume encode_message_rs is defined elsewhere and returns two arrays\n",
    "    x_array, y_array = encode_message_rs(message_array.tolist(), t)\n",
    "    print(\"x_array:\", x_array)\n",
    "    print(\"y_array:\", y_array)\n",
    "    \n",
    "    # Create a 2D boolean array initialized to zeros\n",
    "    array = np.zeros((len(y_array), 8), dtype=bool)\n",
    "    \n",
    "    # Populate the 2D array with bits from the x_array\n",
    "    for i in range(len(y_array)):\n",
    "        for j in range(8):\n",
    "            array[i][j] = (y_array[i] >> j) & 1\n",
    "    \n",
    "    return array, y_array\n",
    "\n",
    "# Example usage\n",
    "encoded_message, original_y_array = encode_message(\"Hello World!\", 4)\n",
    "draw_qr_code(encoded_message)"
   ]
  },
  {
   "cell_type": "code",
   "execution_count": 316,
   "metadata": {},
   "outputs": [
    {
     "data": {
      "image/png": "[encoded data removed]",
      "text/plain": [
       "<Figure size 88.8889x200 with 1 Axes>"
      ]
     },
     "metadata": {},
     "output_type": "display_data"
    },
    {
     "data": {
      "image/png": "[encoded data removed]",
      "text/plain": [
       "<Figure size 88.8889x200 with 1 Axes>"
      ]
     },
     "metadata": {},
     "output_type": "display_data"
    }
   ],
   "source": [
    "# Ajoute des erreurs random dans le message\n",
    "def add_errors(array: np.ndarray, t: int) -> np.ndarray:\n",
    "    \"\"\"\n",
    "    Cette fonction ajoute des erreurs aléatoires dans le message\n",
    "    :param array: np.ndarray, le message à encoder\n",
    "    :param t: int, le nombre d'erreurs à ajouter\n",
    "    :return: np.ndarray, le message avec des erreurs\n",
    "    \"\"\"\n",
    "    # Copy the array to avoid modifying the original\n",
    "    array = array.copy()\n",
    "    \n",
    "    # Generate random indices for errors\n",
    "    indices = np.random.choice(array.size, t, replace=False)\n",
    "    \n",
    "    # Add errors\n",
    "    for index in indices:\n",
    "        array[index // 8][index % 8] ^= 1\n",
    "    \n",
    "    return array\n",
    "\n",
    "corrupted_message = add_errors(encoded_message, 2)\n",
    "draw_qr_code(encoded_message)\n",
    "draw_qr_code(corrupted_message)"
   ]
  },
  {
   "cell_type": "code",
   "execution_count": 317,
   "metadata": {},
   "outputs": [
    {
     "name": "stdout",
     "output_type": "stream",
     "text": [
      "x_array: [1, 2, 3, 4, 5, 6, 7, 8, 9, 10, 11, 12, 13, 14, 15, 16, 17, 18]\n",
      "y_array: [12, 0, 72, 101, 236, 108, 111, 48, 87, 111, 114, 108, 100, 33, 235, 111, 96, 133]\n",
      "erreurs: []\n"
     ]
    },
    {
     "ename": "TypeError",
     "evalue": "corriger_erreurs_rs() takes 3 positional arguments but 4 were given",
     "output_type": "error",
     "traceback": [
      "\u001b[0;31m---------------------------------------------------------------------------\u001b[0m",
      "\u001b[0;31mTypeError\u001b[0m                                 Traceback (most recent call last)",
      "Cell \u001b[0;32mIn[317], line 40\u001b[0m\n\u001b[1;32m     37\u001b[0m     message \u001b[38;5;241m=\u001b[39m corrected_message[\u001b[38;5;241m2\u001b[39m:\u001b[38;5;241m2\u001b[39m\u001b[38;5;241m+\u001b[39mmessage_length]\u001b[38;5;241m.\u001b[39mdecode(\u001b[38;5;124m'\u001b[39m\u001b[38;5;124mascii\u001b[39m\u001b[38;5;124m'\u001b[39m)\n\u001b[1;32m     38\u001b[0m     \u001b[38;5;28;01mreturn\u001b[39;00m message\n\u001b[0;32m---> 40\u001b[0m message \u001b[38;5;241m=\u001b[39m \u001b[43mdecode_message\u001b[49m\u001b[43m(\u001b[49m\u001b[43mcorrupted_message\u001b[49m\u001b[43m,\u001b[49m\u001b[43m \u001b[49m\u001b[38;5;241;43m2\u001b[39;49m\u001b[43m)\u001b[49m\n\u001b[1;32m     41\u001b[0m \u001b[38;5;28mprint\u001b[39m(message)\n",
      "Cell \u001b[0;32mIn[317], line 28\u001b[0m, in \u001b[0;36mdecode_message\u001b[0;34m(encoded_array, t)\u001b[0m\n\u001b[1;32m     26\u001b[0m erreurs \u001b[38;5;241m=\u001b[39m localiser_erreurs_rs(y_array, t)\n\u001b[1;32m     27\u001b[0m \u001b[38;5;28mprint\u001b[39m(\u001b[38;5;124m\"\u001b[39m\u001b[38;5;124merreurs:\u001b[39m\u001b[38;5;124m\"\u001b[39m, erreurs)\n\u001b[0;32m---> 28\u001b[0m y_array \u001b[38;5;241m=\u001b[39m \u001b[43mcorriger_erreurs_rs\u001b[49m\u001b[43m(\u001b[49m\u001b[43mx_array\u001b[49m\u001b[43m,\u001b[49m\u001b[43m \u001b[49m\u001b[43my_array\u001b[49m\u001b[43m,\u001b[49m\u001b[43m \u001b[49m\u001b[43my_array\u001b[49m\u001b[43m,\u001b[49m\u001b[43m \u001b[49m\u001b[43merreurs\u001b[49m\u001b[43m)\u001b[49m\n\u001b[1;32m     29\u001b[0m \u001b[38;5;28mprint\u001b[39m(\u001b[38;5;124m\"\u001b[39m\u001b[38;5;124my_array corrigé:\u001b[39m\u001b[38;5;124m\"\u001b[39m, y_array)\n\u001b[1;32m     30\u001b[0m \u001b[38;5;28mprint\u001b[39m(\u001b[38;5;124m\"\u001b[39m\u001b[38;5;124my_array original:\u001b[39m\u001b[38;5;124m\"\u001b[39m, original_y_array)\n",
      "\u001b[0;31mTypeError\u001b[0m: corriger_erreurs_rs() takes 3 positional arguments but 4 were given"
     ]
    }
   ],
   "source": [
    "def decode_message(encoded_array: np.ndarray, t: int) -> str:\n",
    "    \"\"\"\n",
    "    This function decodes a message from a 2D array of booleans, correcting errors.\n",
    "    :param encoded_array: np.ndarray, the encoded message as a 2D array of booleans\n",
    "    :param t: int, the number of errors we want to be able to correct\n",
    "    :return: str, the decoded message\n",
    "    \"\"\"\n",
    "    # Convert the 2D boolean array back to a 1D array of bytes\n",
    "    y_array = []\n",
    "    for row in encoded_array:\n",
    "        byte = 0\n",
    "        for j in range(8):\n",
    "            if row[j]:\n",
    "                byte |= (1 << j)\n",
    "        y_array.append(byte)\n",
    "\n",
    "    # Make the x_array\n",
    "    x_array = []\n",
    "    for i in range(len(y_array)):\n",
    "        x_array.append(i+1)\n",
    "    print(\"x_array:\", x_array)\n",
    "\n",
    "    print(\"y_array:\", y_array)\n",
    "\n",
    "    # Assume localiser_erreurs_rs and corriger_erreurs_rs are defined elsewhere\n",
    "    erreurs = localiser_erreurs_rs(y_array, t)\n",
    "    print(\"erreurs:\", erreurs)\n",
    "    y_array = corriger_erreurs_rs(x_array, y_array, y_array, erreurs)\n",
    "    print(\"y_array corrigé:\", y_array)\n",
    "    print(\"y_array original:\", original_y_array)\n",
    "\n",
    "    # Convert the corrected y_array to a bytes object\n",
    "    corrected_message = bytes(y_array)\n",
    "\n",
    "    # Decode the message\n",
    "    message_length = int.from_bytes(corrected_message[:2], byteorder='big')\n",
    "    message = corrected_message[2:2+message_length].decode('ascii')\n",
    "    return message\n",
    "\n",
    "message = decode_message(corrupted_message, 2)\n",
    "print(message)"
   ]
  }
 ],
 "metadata": {
  "kernelspec": {
   "display_name": ".venv",
   "language": "python",
   "name": "python3"
  },
  "language_info": {
   "codemirror_mode": {
    "name": "ipython",
    "version": 3
   },
   "file_extension": ".py",
   "mimetype": "text/x-python",
   "name": "python",
   "nbconvert_exporter": "python",
   "pygments_lexer": "ipython3",
   "version": "3.12.3"
  }
 },
 "nbformat": 4,
 "nbformat_minor": 2
}
