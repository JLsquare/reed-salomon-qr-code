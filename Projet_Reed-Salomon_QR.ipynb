{
 "cells": [
  {
   "cell_type": "markdown",
   "metadata": {},
   "source": [
    "***\n",
    "\n",
    "\n",
    "# Projet : Reed-Salomon, QR code et correction d’erreur\n",
    "***\n",
    "***\n",
    "\n",
    "\n",
    "Jean-Loup Mellion  \n",
    "Gatien Da Rocha"
   ]
  },
  {
   "cell_type": "code",
   "execution_count": 118,
   "metadata": {},
   "outputs": [],
   "source": [
    "import numpy as np\n",
    "import matplotlib.pyplot as plt\n",
    "%matplotlib inline\n",
    "import pandas as pd"
   ]
  },
  {
   "cell_type": "markdown",
   "metadata": {},
   "source": [
    "# Rappel interpolation polynomiale\n",
    "\n",
    "Avant de s'attaquer a Reed-Salomon, il est important de rappeler le principe de l'interpolation polynomiale. L'interpolation polynomiale est une méthode mathématique permettant de trouver un polynôme qui passe par un ensemble de points donnés.\n",
    "\n",
    "Pour cela, nous allons utiliser la méthode de Lagrange. Cette méthode permet de trouver un polynôme de degré n-1 passant par n points donnés.\n",
    "\n",
    "### Polynôme de Lagrange"
   ]
  },
  {
   "cell_type": "code",
   "execution_count": 119,
   "metadata": {},
   "outputs": [],
   "source": [
    "def polynome_base_lagrange(x_array: np.ndarray, y_array: np.ndarray, var_x: float, i: int) -> float:\n",
    "    \"\"\"\n",
    "    Cette fonction calcule le polynome de base de lagrange, c'est à dire le produit des termes (x-x_j)/(x_i-x_j) pour j != i\n",
    "    :param x_array: np.ndarray, les valeurs de x\n",
    "    :param y_array: np.ndarray, les valeurs de y\n",
    "    :param var_x: float, la valeur de x pour laquelle on veut calculer le polynome de base\n",
    "    :param i: int, l'indice du polynome de base\n",
    "    :return: float, le polynome de base de lagrange\n",
    "    \"\"\"\n",
    "    res = 1\n",
    "    for j in range(len(x_array)):\n",
    "        if j != i:\n",
    "            res *= (var_x-x_array[j])/(x_array[i]-x_array[j])\n",
    "    return y_array[i]*res"
   ]
  },
  {
   "cell_type": "code",
   "execution_count": 120,
   "metadata": {},
   "outputs": [],
   "source": [
    "def poly_lagrange(x_array: np.ndarray, y_array: np.ndarray, var_x: float) -> float:\n",
    "    \"\"\"\n",
    "    Cette fonction calcule le polynome de lagrange pour un x donné, c'est à dire la somme des polynomes de base de lagrange\n",
    "    :param x_array: np.ndarray, les valeurs de x\n",
    "    :param y_array: np.ndarray, les valeurs de y\n",
    "    :param var_x: float, la valeur de x pour laquelle on veut calculer le polynome de lagrange\n",
    "    \"\"\"\n",
    "    sum = 0\n",
    "    for i in range(len(x_array)):\n",
    "        sum += polynome_base_lagrange(x_array,y_array,var_x,i)\n",
    "    return sum"
   ]
  },
  {
   "cell_type": "markdown",
   "metadata": {},
   "source": [
    "Nous allons maintenant tester la méthode de Lagrange sur un exemple simple."
   ]
  },
  {
   "cell_type": "code",
   "execution_count": 121,
   "metadata": {},
   "outputs": [
    {
     "name": "stdout",
     "output_type": "stream",
     "text": [
      "x_array: [1, 2, 3, 4, 5, 6, 7]\n",
      "y_array: [6, 9, 4, 2, 0, -19.0, -86.0]\n"
     ]
    }
   ],
   "source": [
    "# On défnit le message à envoyer\n",
    "message = [6, 9, 4, 2, 0]\n",
    "\n",
    "# On encode le message\n",
    "def encode_message(message: list, t: int) -> tuple:\n",
    "    \"\"\"\n",
    "    Cette fonction encode un message en rajoutant de la redondance pour pouvoir corriger des erreurs\n",
    "    :param message: list, le message à encoder\n",
    "    :param t: int, le nombre d'erreurs que l'on veut pouvoir corriger\n",
    "    :return: tuple, les valeurs de x et de y\n",
    "    \"\"\"\n",
    "    x_array = []\n",
    "    for i in range(len(message)):\n",
    "        x_array.append(i+1)\n",
    "\n",
    "    y_array = message\n",
    "    for i in range(t):\n",
    "        y_array.append(poly_lagrange(x_array, y_array, len(x_array)+i+1))\n",
    "\n",
    "    for i in range(t):\n",
    "        x_array.append(len(x_array)+1)\n",
    "    return x_array, y_array\n",
    "\n",
    "x_array, y_array = encode_message(message, 2)\n",
    "\n",
    "print(\"x_array:\", x_array)\n",
    "print(\"y_array:\", y_array)"
   ]
  },
  {
   "cell_type": "code",
   "execution_count": 122,
   "metadata": {},
   "outputs": [
    {
     "name": "stdout",
     "output_type": "stream",
     "text": [
      "message_erreur: [0, 9, 0, 2, 0, -19.0, -86.0]\n",
      "erreurs localisées: [0, 2]\n",
      "message_corrigé: [6.0, 9, 4.0, 2, 0, -19.0, -86.0]\n"
     ]
    }
   ],
   "source": [
    "# Ensuite on peut retirer 1 ou 2 valeurs du message pour simuler des erreurs\n",
    "message_erreur = y_array.copy()\n",
    "message_erreur[0] = 0\n",
    "message_erreur[2] = 0\n",
    "\n",
    "print(\"message_erreur:\", message_erreur)\n",
    "\n",
    "# On doit localiser les erreurs (pour les retirer des valeurs de x, y pour recalculer le polynome de lagrange)\n",
    "def localiser_erreurs(x_array: np.ndarray, y_array: np.ndarray, message: np.ndarray, t: int) -> np.ndarray:\n",
    "    \"\"\"\n",
    "    Cette fonction localise les erreurs dans le message\n",
    "    :param x_array: np.ndarray, les valeurs de x\n",
    "    :param y_array: np.ndarray, les valeurs de y\n",
    "    :param message: np.ndarray, le message reçu\n",
    "    :param t: int, le nombre d'erreurs à corriger\n",
    "    :return: np.ndarray, les indices des erreurs\n",
    "    \"\"\"\n",
    "    erreurs = []\n",
    "    for i in range(len(message)):\n",
    "        if message[i] != poly_lagrange(x_array, y_array, i+1):\n",
    "            erreurs.append(i)\n",
    "    return erreurs\n",
    "\n",
    "erreurs = localiser_erreurs(x_array, y_array, message_erreur, t)\n",
    "print(\"erreurs localisées:\", erreurs)\n",
    "\n",
    "# On corrige les erreurs en recalculant les valeurs des erreurs\n",
    "def corriger_erreurs(x_array: np.ndarray, y_array: np.ndarray, message: np.ndarray, erreurs: np.ndarray) -> np.ndarray:\n",
    "    \"\"\"\n",
    "    Cette fonction corrige les erreurs dans le message\n",
    "    :param x_array: np.ndarray, les valeurs de x\n",
    "    :param y_array: np.ndarray, les valeurs de y\n",
    "    :param message: np.ndarray, le message reçu\n",
    "    :param erreurs: np.ndarray, les indices des erreurs\n",
    "    :return: np.ndarray, le message corrigé\n",
    "    \"\"\"\n",
    "    for erreur in erreurs:\n",
    "        message[erreur] = poly_lagrange(x_array, y_array, erreur+1)\n",
    "    return message\n",
    "\n",
    "message_corrige = corriger_erreurs(x_array, y_array, message_erreur, erreurs)\n",
    "print(\"message_corrigé:\", message_corrige)"
   ]
  },
  {
   "cell_type": "markdown",
   "metadata": {},
   "source": [
    "# Reed-Salomon"
   ]
  },
  {
   "cell_type": "markdown",
   "metadata": {},
   "source": [
    "# Application dans les QR codes et autres en correction d'erreur"
   ]
  }
 ],
 "metadata": {
  "kernelspec": {
   "display_name": ".venv",
   "language": "python",
   "name": "python3"
  },
  "language_info": {
   "codemirror_mode": {
    "name": "ipython",
    "version": 3
   },
   "file_extension": ".py",
   "mimetype": "text/x-python",
   "name": "python",
   "nbconvert_exporter": "python",
   "pygments_lexer": "ipython3",
   "version": "3.12.3"
  }
 },
 "nbformat": 4,
 "nbformat_minor": 2
}
