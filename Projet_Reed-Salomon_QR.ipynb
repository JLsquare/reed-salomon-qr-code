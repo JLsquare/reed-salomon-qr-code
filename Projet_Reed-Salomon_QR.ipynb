{
 "cells": [
  {
   "cell_type": "markdown",
   "metadata": {},
   "source": [
    "***\n",
    "\n",
    "\n",
    "# Projet : Reed-Salomon, QR code et correction d’erreur\n",
    "***\n",
    "***\n",
    "\n",
    "\n",
    "Jean-Loup Mellion  \n",
    "Gatien Da Rocha"
   ]
  },
  {
   "cell_type": "code",
   "execution_count": 527,
   "metadata": {},
   "outputs": [],
   "source": [
    "import numpy as np\n",
    "import matplotlib.pyplot as plt\n",
    "%matplotlib inline\n",
    "import pandas as pd"
   ]
  },
  {
   "cell_type": "markdown",
   "metadata": {},
   "source": [
    "# Rappel interpolation polynomiale\n",
    "\n",
    "Avant de s'attaquer a Reed-Salomon, il est important de rappeler le principe de l'interpolation polynomiale. L'interpolation polynomiale est une méthode mathématique permettant de trouver un polynôme qui passe par un ensemble de points donnés.\n",
    "\n",
    "Pour cela, nous allons utiliser la méthode de Lagrange. Cette méthode permet de trouver un polynôme de degré n-1 passant par n points donnés.\n",
    "\n",
    "### Polynôme de Lagrange"
   ]
  },
  {
   "cell_type": "code",
   "execution_count": 528,
   "metadata": {},
   "outputs": [],
   "source": [
    "def polynome_base_lagrange(x_array: np.ndarray, y_array: np.ndarray, var_x: float, i: int) -> float:\n",
    "    \"\"\"\n",
    "    Cette fonction calcule le polynome de base de lagrange, c'est à dire le produit des termes (x-x_j)/(x_i-x_j) pour j != i\n",
    "    :param x_array: np.ndarray, les valeurs de x\n",
    "    :param y_array: np.ndarray, les valeurs de y\n",
    "    :param var_x: float, la valeur de x pour laquelle on veut calculer le polynome de base\n",
    "    :param i: int, l'indice du polynome de base\n",
    "    :return: float, le polynome de base de lagrange\n",
    "    \"\"\"\n",
    "    res = 1\n",
    "    for j in range(len(x_array)):\n",
    "        if j != i:\n",
    "            res *= (var_x-x_array[j])/(x_array[i]-x_array[j])\n",
    "    return y_array[i]*res"
   ]
  },
  {
   "cell_type": "code",
   "execution_count": 529,
   "metadata": {},
   "outputs": [],
   "source": [
    "def poly_lagrange(x_array: np.ndarray, y_array: np.ndarray, var_x: float) -> float:\n",
    "    \"\"\"\n",
    "    Cette fonction calcule le polynome de lagrange pour un x donné, c'est à dire la somme des polynomes de base de lagrange\n",
    "    :param x_array: np.ndarray, les valeurs de x\n",
    "    :param y_array: np.ndarray, les valeurs de y\n",
    "    :param var_x: float, la valeur de x pour laquelle on veut calculer le polynome de lagrange\n",
    "    \"\"\"\n",
    "    sum = 0\n",
    "    for i in range(len(x_array)):\n",
    "        sum += polynome_base_lagrange(x_array,y_array,var_x,i)\n",
    "    return sum"
   ]
  },
  {
   "cell_type": "markdown",
   "metadata": {},
   "source": [
    "Nous allons maintenant tester la méthode de Lagrange sur un exemple simple."
   ]
  },
  {
   "cell_type": "code",
   "execution_count": 530,
   "metadata": {},
   "outputs": [
    {
     "name": "stdout",
     "output_type": "stream",
     "text": [
      "x_array: [1, 2, 3, 4, 5, 6, 7]\n",
      "y_array: [6, 9, 4, 2, 0, -19.0, -86.0]\n"
     ]
    }
   ],
   "source": [
    "# On défnit le message à envoyer\n",
    "message = [6, 9, 4, 2, 0]\n",
    "\n",
    "# On encode le message\n",
    "def encode_message(message: list, t: int) -> tuple:\n",
    "    \"\"\"\n",
    "    Cette fonction encode un message en rajoutant de la redondance pour pouvoir corriger des erreurs\n",
    "    :param message: list, le message à encoder\n",
    "    :param t: int, le nombre d'erreurs que l'on veut pouvoir corriger\n",
    "    :return: tuple, les valeurs de x et de y\n",
    "    \"\"\"\n",
    "    x_array = []\n",
    "    for i in range(len(message)):\n",
    "        x_array.append(i+1)\n",
    "\n",
    "    y_array = message\n",
    "    for i in range(t):\n",
    "        y_array.append(poly_lagrange(x_array, y_array, len(x_array)+i+1))\n",
    "\n",
    "    for i in range(t):\n",
    "        x_array.append(len(x_array)+1)\n",
    "    return x_array, y_array\n",
    "\n",
    "x_array, y_array = encode_message(message, 2)\n",
    "\n",
    "print(\"x_array:\", x_array)\n",
    "print(\"y_array:\", y_array)"
   ]
  },
  {
   "cell_type": "code",
   "execution_count": 531,
   "metadata": {},
   "outputs": [
    {
     "name": "stdout",
     "output_type": "stream",
     "text": [
      "message_erreur: [0, 9, 0, 2, 0, -19.0, -86.0]\n",
      "erreurs localisées: [0, 2]\n",
      "message_corrigé: [6.0, 9, 4.0, 2, 0, -19.0, -86.0]\n"
     ]
    }
   ],
   "source": [
    "# Ensuite on peut retirer 1 ou 2 valeurs du message pour simuler des erreurs\n",
    "message_erreur = y_array.copy()\n",
    "message_erreur[0] = 0\n",
    "message_erreur[2] = 0\n",
    "\n",
    "print(\"message_erreur:\", message_erreur)\n",
    "\n",
    "# On doit localiser les erreurs (pour les retirer des valeurs de x, y pour recalculer le polynome de lagrange)\n",
    "def localiser_erreurs(x_array: np.ndarray, y_array: np.ndarray, message: np.ndarray, t: int) -> np.ndarray:\n",
    "    \"\"\"\n",
    "    Cette fonction localise les erreurs dans le message\n",
    "    :param x_array: np.ndarray, les valeurs de x\n",
    "    :param y_array: np.ndarray, les valeurs de y\n",
    "    :param message: np.ndarray, le message reçu\n",
    "    :param t: int, le nombre d'erreurs à corriger\n",
    "    :return: np.ndarray, les indices des erreurs\n",
    "    \"\"\"\n",
    "    erreurs = []\n",
    "    for i in range(len(message)):\n",
    "        if message[i] != poly_lagrange(x_array, y_array, i+1):\n",
    "            erreurs.append(i)\n",
    "    return erreurs\n",
    "\n",
    "erreurs = localiser_erreurs(x_array, y_array, message_erreur, t)\n",
    "print(\"erreurs localisées:\", erreurs)\n",
    "\n",
    "# On corrige les erreurs en recalculant les valeurs des erreurs\n",
    "def corriger_erreurs(x_array: np.ndarray, y_array: np.ndarray, message: np.ndarray, erreurs: np.ndarray) -> np.ndarray:\n",
    "    \"\"\"\n",
    "    Cette fonction corrige les erreurs dans le message\n",
    "    :param x_array: np.ndarray, les valeurs de x\n",
    "    :param y_array: np.ndarray, les valeurs de y\n",
    "    :param message: np.ndarray, le message reçu\n",
    "    :param erreurs: np.ndarray, les indices des erreurs\n",
    "    :return: np.ndarray, le message corrigé\n",
    "    \"\"\"\n",
    "    for erreur in erreurs:\n",
    "        message[erreur] = poly_lagrange(x_array, y_array, erreur+1)\n",
    "    return message\n",
    "\n",
    "message_corrige = corriger_erreurs(x_array, y_array, message_erreur, erreurs)\n",
    "print(\"message_corrigé:\", message_corrige)"
   ]
  },
  {
   "cell_type": "markdown",
   "metadata": {},
   "source": [
    "# Reed-Salomon\n",
    "\n",
    "Le principale problème de l'interpolation polynomiale avec les messages codés c'est que les y des points de redondances peuvent être bien trop grand, par exemple si on veux encoder un message avec que 1 octet par point, y doit etre compris entre 0 et 255, mais un point de redondance peut être bien plus grand que 255. Pour résoudre ce problème, on utilise le code de Reed-Salomon, qui limite la taille des y a l'aide de modulo.\n",
    "\n",
    "Video explicative : https://www.youtube.com/watch?v=1pQJkt7-R4Q"
   ]
  },
  {
   "cell_type": "markdown",
   "metadata": {},
   "source": [
    "### Initialisation de la table de Galois\n",
    "\n",
    "Implémenté à partir de : https://en.wikiversity.org/wiki/Reed%E2%80%93Solomon_codes_for_coders#Multiplication_with_logarithms, et d'autres sources."
   ]
  },
  {
   "cell_type": "code",
   "execution_count": 532,
   "metadata": {},
   "outputs": [],
   "source": [
    "# Paramètres globaux\n",
    "field_size = 256 # Taille du corps fini GF(2^8), un octet\n",
    "primitive_polynomial = 0x11d  # Polynom primitif pour GF(2^8)\n",
    "\n",
    "# Création des tables de logarithmes et exponentielles pour les opérations dans GF(2^8)\n",
    "def create_gf_tables() -> tuple:\n",
    "    \"\"\"\n",
    "    Cette fonction crée les tables de logarithmes et exponentielles pour les opérations dans GF(2^8)\n",
    "    :return: tuple, les tables de logarithmes et exponentielles\n",
    "    \"\"\"\n",
    "    exp = np.zeros(field_size * 2, dtype=int)\n",
    "    log = np.zeros(field_size, dtype=int)\n",
    "    x = 1\n",
    "    for i in range(field_size - 1):\n",
    "        exp[i] = x\n",
    "        log[x] = i\n",
    "        x <<= 1\n",
    "        if x & field_size:\n",
    "            x ^= primitive_polynomial\n",
    "        exp[i + field_size - 1] = exp[i]\n",
    "    return exp, log\n",
    "\n",
    "exp_table, log_table = create_gf_tables()"
   ]
  },
  {
   "cell_type": "markdown",
   "metadata": {},
   "source": [
    "### Operations sur GF(field_size)\n",
    "\n",
    "Implémenté à partir de : https://en.wikiversity.org/wiki/Reed%E2%80%93Solomon_codes_for_coders#Finite_field_arithmetic, et d'autres sources."
   ]
  },
  {
   "cell_type": "code",
   "execution_count": 533,
   "metadata": {},
   "outputs": [],
   "source": [
    "# Opérations sur GF(2^8)\n",
    "def gf_add(x: int, y: int) -> int:\n",
    "    \"\"\"\n",
    "    Cette fonction réalise l'addition dans GF(2^8), qui est l'opération XOR\n",
    "    :param x: int, le premier nombre\n",
    "    :param y: int, le deuxième nombre\n",
    "    :return: int, le résultat de l'addition\n",
    "    \"\"\"\n",
    "    return x ^ y\n",
    "\n",
    "def gf_sub(x: int, y: int) -> int:\n",
    "    \"\"\"\n",
    "    Cette fonction réalise la soustraction dans GF(2^8), qui est aussi juste l'opération XOR\n",
    "    :param x: int, le premier nombre\n",
    "    :param y: int, le deuxième nombre\n",
    "    :return: int, le résultat de la soustraction\n",
    "    \"\"\"\n",
    "    return x ^ y\n",
    "\n",
    "def gf_mult(x: int, y: int) -> int:\n",
    "    \"\"\"\n",
    "    Cette fonction réalise la multiplication dans GF(2^8), en utilisant les tables de logarithmes et exponentielles\n",
    "    :param x: int, le premier nombre\n",
    "    :param y: int, le deuxième nombre\n",
    "    :return: int, le résultat de la multiplication\n",
    "    \"\"\"\n",
    "    if x == 0 or y == 0:\n",
    "        return 0\n",
    "    return exp_table[log_table[x] + log_table[y]]\n",
    "\n",
    "def gf_div(x: int, y: int) -> int:\n",
    "    \"\"\"\n",
    "    Cette fonction réalise la division dans GF(2^8), en utilisant les tables de logarithmes et exponentielles\n",
    "    :param x: int, le premier nombre\n",
    "    :param y: int, le deuxième nombre\n",
    "    :return: int, le résultat de la division\n",
    "    \"\"\"\n",
    "    if y == 0:\n",
    "        raise ZeroDivisionError()\n",
    "    if x == 0:\n",
    "        return 0\n",
    "    return exp_table[log_table[x] - log_table[y] + field_size - 1]\n",
    "\n",
    "def gf_pow(x: int, power: int) -> int:\n",
    "    \"\"\"\n",
    "    Cette fonction réalise la puissance dans GF(2^8), en utilisant les tables de logarithmes et exponentielles\n",
    "    :param x: int, le nombre\n",
    "    :param power: int, la puissance\n",
    "    :return: int, le résultat de la puissance\n",
    "    \"\"\"\n",
    "    return exp_table[(log_table[x] * power) % (field_size - 1)]\n",
    "\n",
    "def gf_inverse(x: int) -> int:\n",
    "    \"\"\"\n",
    "    Cette fonction calcule l'inverse dans GF(2^8), en utilisant les tables de logarithmes et exponentielles\n",
    "    :param x: int, le nombre\n",
    "    :return: int, l'inverse du nombre\n",
    "    \"\"\"\n",
    "    return exp_table[field_size - 1 - log_table[x]]\n"
   ]
  },
  {
   "cell_type": "code",
   "execution_count": 534,
   "metadata": {},
   "outputs": [
    {
     "name": "stdout",
     "output_type": "stream",
     "text": [
      "Tous les tests passent\n"
     ]
    }
   ],
   "source": [
    "# Tests pour les opérations sur GF(2^8) \n",
    "def test_gf_operations():\n",
    "    \"\"\"\n",
    "    Cette fonction teste les opérations sur GF(2^8)\n",
    "    Validé avec https://hp.vector.co.jp/authors/VA021385/galois_calc.htm\n",
    "    \"\"\"\n",
    "    # Addition et soustraction\n",
    "    assert gf_add(15, 27) == 15 ^ 27\n",
    "    assert gf_sub(15, 27) == 15 ^ 27\n",
    "    \n",
    "    # Multiplication\n",
    "    assert gf_mult(15, 27) == 153\n",
    "    assert gf_mult(0, 15) == 0\n",
    "    assert gf_mult(15, 0) == 0\n",
    "    \n",
    "    # Division\n",
    "    assert gf_div(188, 15) == 216\n",
    "    assert gf_div(188, 1) == 188\n",
    "    \n",
    "    # Puissance\n",
    "    assert gf_pow(15, 1) == 15\n",
    "    assert gf_pow(15, 2) == gf_mult(15, 15)\n",
    "    \n",
    "    # Inversion\n",
    "    assert gf_inverse(15) == 150\n",
    "\n",
    "    print(\"Tous les tests passent\")\n",
    "\n",
    "test_gf_operations()\n"
   ]
  },
  {
   "cell_type": "markdown",
   "metadata": {},
   "source": [
    "### Polynôme de Reed-Salomon"
   ]
  },
  {
   "cell_type": "code",
   "execution_count": 535,
   "metadata": {},
   "outputs": [],
   "source": [
    "def polynome_base_lagrange_rs(x_array: np.ndarray, y_array: np.ndarray, var_x: int, i: int) -> int:\n",
    "    \"\"\"\n",
    "    Cette fonction calcule le polynome de base de lagrange, c'est à dire le produit des termes (x-x_j)/(x_i-x_j) pour j != i\n",
    "    :param x_array: np.ndarray, les valeurs de x\n",
    "    :param y_array: np.ndarray, les valeurs de y\n",
    "    :param var_x: int, la valeur de x pour laquelle on veut calculer le polynome de base\n",
    "    :param i: int, l'indice du polynome de base\n",
    "    :return: int, le polynome de base de lagrange\n",
    "    \"\"\"\n",
    "    res = 1\n",
    "    for j in range(len(x_array)):\n",
    "        if j != i:\n",
    "            res = gf_mult(res, gf_div(var_x-x_array[j], x_array[i]-x_array[j]))\n",
    "    return gf_mult(y_array[i], res)\n",
    "\n",
    "def poly_lagrange_rs(x_array: np.ndarray, y_array: np.ndarray, var_x: int) -> int:\n",
    "    \"\"\"\n",
    "    Cette fonction calcule le polynome de lagrange pour un x donné, c'est à dire la somme des polynomes de base de lagrange\n",
    "    :param x_array: np.ndarray, les valeurs de x\n",
    "    :param y_array: np.ndarray, les valeurs de y\n",
    "    :param var_x: int, la valeur de x pour laquelle on veut calculer le polynome de lagrange\n",
    "    \"\"\"\n",
    "    sum = 0\n",
    "    for i in range(len(x_array)):\n",
    "        sum = gf_add(sum, polynome_base_lagrange_rs(x_array, y_array, var_x, i))\n",
    "    return sum"
   ]
  },
  {
   "cell_type": "code",
   "execution_count": 536,
   "metadata": {},
   "outputs": [
    {
     "name": "stdout",
     "output_type": "stream",
     "text": [
      "x_array: [1, 2, 3, 4, 5, 6, 7, 8, 9]\n",
      "y_array: [6, 9, 4, 2, 0, 189, 231, 139, 163]\n",
      "message_erreur: [0, 9, 0, 2, 0, 189, 0, 139, 0]\n",
      "erreurs localisées: [0, 2, 6, 8]\n",
      "message_corrigé: [6, 9, 4, 2, 0, 189, 231, 139, 163]\n"
     ]
    }
   ],
   "source": [
    "# On défnit le message à envoyer\n",
    "message = [6, 9, 4, 2, 0]\n",
    "\n",
    "# On encode le message\n",
    "def encode_message_rs(message: list, t: int) -> tuple:\n",
    "    \"\"\"\n",
    "    Cette fonction encode un message en rajoutant de la redondance pour pouvoir corriger des erreurs\n",
    "    :param message: list, le message à encoder\n",
    "    :param t: int, le nombre d'erreurs que l'on veut pouvoir corriger\n",
    "    :return: tuple, les valeurs de x et de y\n",
    "    \"\"\"\n",
    "    x_array = []\n",
    "    for i in range(len(message)):\n",
    "        x_array.append(i+1)\n",
    "\n",
    "    y_array = message\n",
    "    for i in range(t):\n",
    "        y_array.append(poly_lagrange_rs(x_array, y_array, len(x_array)+i+1))\n",
    "\n",
    "    for i in range(t):\n",
    "        x_array.append(len(x_array)+1)\n",
    "    return x_array, y_array\n",
    "\n",
    "x_array, y_array = encode_message_rs(message, 4)\n",
    "\n",
    "print(\"x_array:\", x_array)\n",
    "print(\"y_array:\", y_array)\n",
    "\n",
    "# Ensuite on peut retirer 1, 2, 3 ou 4 valeurs du message pour simuler des erreurs\n",
    "message_erreur = y_array.copy()\n",
    "message_erreur[0] = 0\n",
    "message_erreur[2] = 0\n",
    "message_erreur[6] = 0\n",
    "message_erreur[8] = 0\n",
    "\n",
    "print(\"message_erreur:\", message_erreur)\n",
    "\n",
    "# On doit localiser les erreurs (pour les retirer des valeurs de x, y pour recalculer le polynome de lagrange)\n",
    "def localiser_erreurs_rs(x_array: np.ndarray, y_array: np.ndarray, message: np.ndarray, t: int) -> np.ndarray:\n",
    "    \"\"\"\n",
    "    Cette fonction localise les erreurs dans le message\n",
    "    :param x_array: np.ndarray, les valeurs de x\n",
    "    :param y_array: np.ndarray, les valeurs de y\n",
    "    :param message: np.ndarray, le message reçu\n",
    "    :param t: int, le nombre d'erreurs à corriger\n",
    "    :return: np.ndarray, les indices des erreurs\n",
    "    \"\"\"\n",
    "    erreurs = []\n",
    "    for i in range(len(message)):\n",
    "        if message[i] != poly_lagrange_rs(x_array, y_array, i+1):\n",
    "            erreurs.append(i)\n",
    "    return erreurs\n",
    "\n",
    "erreurs = localiser_erreurs_rs(x_array, y_array, message_erreur, 4)\n",
    "print(\"erreurs localisées:\", erreurs)\n",
    "\n",
    "# On corrige les erreurs en recalculant les valeurs des erreurs\n",
    "def corriger_erreurs_rs(x_array: np.ndarray, y_array: np.ndarray, message: np.ndarray, erreurs: np.ndarray) -> np.ndarray:\n",
    "    \"\"\"\n",
    "    Cette fonction corrige les erreurs dans le message\n",
    "    :param x_array: np.ndarray, les valeurs de x\n",
    "    :param y_array: np.ndarray, les valeurs de y\n",
    "    :param message: np.ndarray, le message reçu\n",
    "    :param erreurs: np.ndarray, les indices des erreurs\n",
    "    :return: np.ndarray, le message corrigé\n",
    "    \"\"\"\n",
    "    for erreur in erreurs:\n",
    "        message[erreur] = poly_lagrange_rs(x_array, y_array, erreur+1)\n",
    "    return message\n",
    "\n",
    "message_corrige = corriger_erreurs_rs(x_array, y_array, message_erreur, erreurs)\n",
    "print(\"message_corrigé:\", message_corrige)"
   ]
  },
  {
   "cell_type": "markdown",
   "metadata": {},
   "source": [
    "# Application dans les QR codes et autres en correction d'erreur"
   ]
  }
 ],
 "metadata": {
  "kernelspec": {
   "display_name": ".venv",
   "language": "python",
   "name": "python3"
  },
  "language_info": {
   "codemirror_mode": {
    "name": "ipython",
    "version": 3
   },
   "file_extension": ".py",
   "mimetype": "text/x-python",
   "name": "python",
   "nbconvert_exporter": "python",
   "pygments_lexer": "ipython3",
   "version": "3.12.3"
  }
 },
 "nbformat": 4,
 "nbformat_minor": 2
}
