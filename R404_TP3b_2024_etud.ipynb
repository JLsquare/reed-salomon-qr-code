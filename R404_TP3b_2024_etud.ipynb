{
 "cells": [
  {
   "cell_type": "markdown",
   "metadata": {},
   "source": [
    "# <center> R4.04 Méthodes d'optimisation <br> TP3b - Interpolation polynomiale : le partage de secret </center>\n",
    "<center> 2023/2024 - Tom Ferragut, Thibault Godin & Lucie Naert </center>\n",
    "<center> IUT de Vannes, BUT Informatique </center>"
   ]
  },
  {
   "cell_type": "markdown",
   "metadata": {},
   "source": [
    "Le but de ce TP est de présenter deux applications de l'interpolation polynôminale : le _partage de secret de Shamir_ et un exemple jouet de protocole de _correction d'erreurs_."
   ]
  },
  {
   "cell_type": "code",
   "execution_count": 129,
   "metadata": {},
   "outputs": [],
   "source": [
    "import numpy as np\n",
    "import random\n",
    "\n",
    "# Affichage graphique\n",
    "\n",
    "#%matplotlib notebook \n",
    "# enable interactivity of plots\n",
    "# attention a bien fermer les fenetres plt après chaque visualisalgèbreation\n",
    "\n",
    "%matplotlib inline\n",
    "\n",
    "import itertools\n",
    "\n",
    "import matplotlib.pyplot as plt\n",
    "from mpl_toolkits.mplot3d import Axes3D \n",
    "import matplotlib.colors as mcolors\n",
    "\n",
    "names_col = list(mcolors.XKCD_COLORS)\n",
    "\n",
    "import time\n",
    "\n",
    "from collections import Counter\n",
    "\n"
   ]
  },
  {
   "cell_type": "markdown",
   "metadata": {},
   "source": [
    "On rappelle le théorème central de l'interpolation :\n",
    "\n",
    "\n",
    "<div class=\"alert alert-block alert-info\"><b>Théorème</b> \n",
    "    \n",
    "    \n",
    "Soient $n$ points $(x_1,y_1), ..., (x_n,y_n)$ de $\\mathbb{R}^2$ \n",
    "\n",
    "    \n",
    "Alors il existe un unique polynôme $P_{(x_1,y_1), ..., (x_n,y_n)}$ de degré inférieur ou égal à $n-1$  tel que $P_{(x_1,y_1), ..., (x_n,y_n)}(x_i) = y_i$\n",
    "   \n",
    "</div>\n",
    "\n",
    "Les fonctions suivantes permettent de faire une interpolation polynomiale par la méthode de Lagrange (voir TP3a). Plus précisément, à partir des coordonnées `X` et `Y` des noeuds d'interpolation, `pol_Lagrange(varX,X,Y)` calcule le polynome $P$ passant par tout les noeuds d'interpolation et renvoie $P(varX)$."
   ]
  },
  {
   "cell_type": "code",
   "execution_count": 130,
   "metadata": {},
   "outputs": [],
   "source": [
    "\n",
    "def pol_li(varX,i,X,Y):\n",
    "    li=1\n",
    "    for j in range(len(X)):\n",
    "        if i!=j:\n",
    "            li=li*((varX-X[j])/(X[i]-X[j]))\n",
    "    return Y[i]*li\n",
    "\n",
    "\n",
    "\n",
    "def pol_Lagrange(varX,X,Y):\n",
    "    l=0\n",
    "    for i in range(len(X)):\n",
    "        l=l+pol_li(varX,i,X,Y)\n",
    "        \n",
    "    return np.round(l)"
   ]
  },
  {
   "cell_type": "markdown",
   "metadata": {},
   "source": [
    "## Partage de secret : protocole de Shamir\n",
    "\n",
    "\n",
    "Contexte : \n",
    "supposons qu'on veuille distribuer un secret $S$ (un nombre) à $m$ personnes $p_1, ..., p_m$\n",
    "\n",
    "Le but est que \n",
    "- $n$ personnes (ou plus) peuvent connaître facilement le secret ($n\\leq m$)\n",
    "- $n-1$ personnes (ou moins) ne peuvent pas le découvrir (facilement)\n",
    "\n",
    "\n",
    "L'approche par du Shamir Secret Sharing (SSS)  (simplifiée) est alors :\n",
    "\n",
    "- partage : \n",
    "    - créer un polynôme $P$ de degré $n-1$ tel que $P(0)=S$ en tirant aléatoirement $n-1$ valeurs pour les $P(-k), k \\in \\{1,2,...,n-1\\}$\n",
    "    - attribuer à chaque personne $p_i$, $i \\in \\{1,2,...,m\\}$, la valeur $s_i=P(i)$\n",
    "- reconstruction :\n",
    "    - si $n$ personne $p_{i_1}, ..., p_{i_n}$ créent le polynôme $Q$ interpolant $(i_1,s_{i_1}), ..., (i_n,s_{i_n})$, alors $Q=P$ et donc l'évaluation de ce polynôme en $0$ donne $S$\n",
    "    \n",
    "Les  $s_i$ sont appelés les sous-secrets."
   ]
  },
  {
   "cell_type": "markdown",
   "metadata": {},
   "source": [
    "Remarques : \n",
    "- La version [Wikipedia](https://fr.wikipedia.org/wiki/Partage_de_cl%C3%A9_secr%C3%A8te_de_Shamir) est un peu différente (mais pas plus compliquée) : on choisit au hasard les coefficients du polynome et non des points par lequel passe le polynome.\n",
    " \n",
    "- Si k personnes se regroupent (k > n), le secret pourra quand même être retrouvé car il existe un unique polynome de degrès inf ou égal à k-1 passant par les k points : ce degrés est donc n-1. "
   ]
  },
  {
   "cell_type": "markdown",
   "metadata": {},
   "source": [
    "**Question 1** \n",
    "\n",
    "1. Écrire une fonction `partage(S,m,n)` avec $S$ le secret (un nombre), $m$ le nombre de personnes partageant le secret et $n$ le nombre de personnes nécessaires à la reconstruction du secret. Cette fonction renvoie la liste des $s_i$ pour $i$ allant de $1$ à $m$ ainsi que $X$ (vecteurs des absisses des noeuds d'interpolation) et $Y$ (vecteurs des ordonnées des noeuds d'interpolation). Attention : $X$ et $Y$ n'ont d'intérêts que pour la représentation graphique, ils ne devront pas être utilisés pour la reconstruction.\n",
    "\n",
    "2. Remplir la légende du graphique"
   ]
  },
  {
   "cell_type": "code",
   "execution_count": 131,
   "metadata": {},
   "outputs": [
    {
     "data": {
      "image/png": "[encoded data removed]",
      "text/plain": [
       "<Figure size 640x480 with 1 Axes>"
      ]
     },
     "metadata": {},
     "output_type": "display_data"
    },
    {
     "name": "stdout",
     "output_type": "stream",
     "text": [
      "Voici les sous-secrets à partager :  [-1179.0, -5642.0, -16134.0, -36276.0, -70510.0, -124099.0, -203127.0]\n",
      "Ainsi, la personne 1 recevra le sous secret -1179.0\n"
     ]
    }
   ],
   "source": [
    "def partage(S, n, m):\n",
    "    X = np.arange(-n + 1, 1)\n",
    "    Y = []\n",
    "    for i in range(n - 1):\n",
    "        Y.append(random.randint(-100, 100))\n",
    "    Y.append(S)\n",
    "    si = []\n",
    "    for i in range(m):\n",
    "        x = i + 1\n",
    "        y = pol_Lagrange(x, X, Y)\n",
    "        si.append(y)\n",
    "    return X,Y,si\n",
    "\n",
    "# Application\n",
    "\n",
    "#secret \n",
    "S=55 \n",
    "\n",
    "#nombre de personnes partageant le secret\n",
    "m=7\n",
    "\n",
    "#nombre de personnes necessaires à la reconstruction\n",
    "n=5\n",
    "\n",
    "\n",
    "X,Y,si = partage(S,n,m)\n",
    "\n",
    "\n",
    "#Représentation graphique\n",
    "tab_x=np.linspace(-n,m+1,500)\n",
    "tab_yLagrange=pol_Lagrange(tab_x,X,Y)\n",
    "pi = np.arange(1,m+1)# Entier de 1 à m inclus\n",
    "plt.plot(tab_x,tab_yLagrange, color='blue', label =\"?\" )\n",
    "plt.scatter(X,Y, color='blue', marker='+',label =\"??\")\n",
    "plt.scatter(pi,si, color='orange', marker='x',label =\"???\")\n",
    "plt.scatter(0,pol_Lagrange(0,X,Y), color='green', marker='o',label =\"????\")\n",
    "plt.legend(loc='center left', bbox_to_anchor=(1, 0.5))\n",
    "#plt.ylim(-1000, 1000) #pour voir les détails des points pris au hasard\n",
    "plt.show()\n",
    "\n",
    "print(\"Voici les sous-secrets à partager : \", si)\n",
    "print(\"Ainsi, la personne 1 recevra le sous secret\", si[0])"
   ]
  },
  {
   "cell_type": "markdown",
   "metadata": {},
   "source": [
    "**question 2**\n",
    "\n",
    "1. Écrire une fonction `reconstruction(k,sk)` permettant de retrouver le secret. `k` est la liste des indices des personnes se rassemblant pour partager leur sous-secret ($k \\subset \\{1,2,...,m\\}$). `sk` est la liste des sous-secrets (de même taille que `k`). \n",
    "2. Montrez que vous arrivez à retrouver le secret $S$ quand on a $n$ (ou plus) sous-secrets mais pas quand on en a moins."
   ]
  },
  {
   "cell_type": "code",
   "execution_count": 132,
   "metadata": {},
   "outputs": [
    {
     "name": "stdout",
     "output_type": "stream",
     "text": [
      "Avec 5 sous-secrets, le secret trouvé est 55.0\n"
     ]
    }
   ],
   "source": [
    "def reconstruction(k,sk):\n",
    "    return pol_Lagrange(0, k, sk)\n",
    "\n",
    "\n",
    "S = 55\n",
    "m = 10\n",
    "n = 4\n",
    "_,_,si = partage(S,n,m)\n",
    "\n",
    "\n",
    "k=[1,3,4,5,9] #Choix d'indices entre 1 et m\n",
    "sk = [si[x-1] for x in k] #Décalage des indices car numérotation python\n",
    "print(\"Avec\", len(k),\"sous-secrets, le secret trouvé est\",reconstruction(k,sk))"
   ]
  },
  {
   "cell_type": "markdown",
   "metadata": {},
   "source": [
    "**activité**\n",
    "\n",
    "À l'aide de ce protocole, partager un secret à 6 de vos camarades de manières à ce qu'il faille au moins 3 d'entre-eux pour le reconstruire.\n",
    "\n",
    "\n",
    "----"
   ]
  },
  {
   "cell_type": "markdown",
   "metadata": {},
   "source": [
    "## Suréchantillonage et introduction aux codes de Reed-Solomon\n",
    "\n",
    "\n",
    "Le but de cette partie est de vous donner un protocole de correction d'erreur qui peut-être vu comme une (grosse) simplification des codes de Reed-Solomon.\n",
    "\n",
    "Le principe est le suivant :\n",
    "\n",
    "On veut transmettre un message de $k$ lettres (nombres entiers) $m_0,...,m_{k-1} $ sur un canal bruité.\n",
    "\n",
    "Pour cela, on va transmettre les $k$ lettres plus $t$ lettres supplémentaires $r_0,...,r_{t-1}$, construites comme suit :\n",
    "- on calcule le polynôme d'interpolation $P=P_{(0,m_0),...,(k-1,m_{k-1})}$ \n",
    "- $r_i = P(k+i)$\n",
    "    \n",
    "    \n",
    "On transmet le vecteur $[m_0,...,m_{k-1},r_0,...,r_{t-1}]$\n",
    "\n"
   ]
  },
  {
   "cell_type": "markdown",
   "metadata": {},
   "source": [
    "**question 3**\n",
    "\n",
    "1. Écrire une fonction `lettreSup(t,xm,m)` calculant `r` les $t$ lettres supplémentaires ainsi que `xr` leur indice (les $t$ abscisses des lettres supplémentaires).\n",
    "2. Compléter la légende de la représentation graphique  "
   ]
  },
  {
   "cell_type": "code",
   "execution_count": 133,
   "metadata": {},
   "outputs": [
    {
     "name": "stdout",
     "output_type": "stream",
     "text": [
      "[7, 8, 9]\n",
      "[-437.0, -2252.0, -8310.0]\n"
     ]
    },
    {
     "data": {
      "image/png": "[encoded data removed]",
      "text/plain": [
       "<Figure size 640x480 with 1 Axes>"
      ]
     },
     "metadata": {},
     "output_type": "display_data"
    }
   ],
   "source": [
    "\n",
    "\n",
    "def lettreSup(t, xm, m):\n",
    "    xr = []\n",
    "    r = []\n",
    "    for i in range(t):\n",
    "        xr.append(i + len(xm))\n",
    "        r.append(pol_Lagrange(i + len(xm), xm, m))\n",
    "    print(xr)\n",
    "    print(r)\n",
    "    return xr, r\n",
    "\n",
    "\n",
    "\n",
    "k=7\n",
    "t=3\n",
    "\n",
    "xm=np.arange(k) \n",
    "m=random.sample(range(-100, 100), k)\n",
    "\n",
    "xr,r = lettreSup(t, xm, m)\n",
    "\n",
    "#tracé\n",
    "plt.scatter(xm,m, color='blue', label = \"?\")\n",
    "plt.scatter(xr,r, color='red', label = \"??\")\n",
    "\n",
    "xcont=np.linspace(-.25,k+t-0.75,500)\n",
    "plt.plot(xcont,pol_Lagrange(xcont,xm,m), color='green', label =\"???\")\n",
    "plt.legend(loc='center left', bbox_to_anchor=(1, 0.5))\n",
    "plt.show()"
   ]
  },
  {
   "cell_type": "markdown",
   "metadata": {},
   "source": [
    "La détection d'erreur se fait en évaluant tous les polynômes $Q_S$ interpolant un sous-ensemble $S$ de taille $k$ : $S \\subset \\{(0,m_0),...,(k-1,m_{k-1}),(k,r_0),...,(k+t-1,r_{t-1})\\}$\n",
    "\n",
    "\n",
    "Si toutes les valeurs $Q_s(i) , i \\in \\{0,...,k+t-1\\}$ s'accordent, alors il n'y a (très très probablement) pas d'erreur.\n",
    "\n",
    "\n",
    "**question 4**\n",
    "\n",
    "1. Écrire une fonction `detectErreur(k,yt)` où k est le nombre de lettres du message et `yt` est la liste complète des lettres ($[m_0,...,m_{k-1},r_0,...,r_{t-1}]$). Cette fonction renvoie `True` s'il y a une erreur dans le message et `False` s'il n'y a (très très probablement) pas d'erreur.\n",
    "\n",
    "_Astuce python_ : on pourra utiliser `list_s= list(itertools.combinations(...))` pour construire les sous-ensembles.\n",
    "\n",
    "2. Compléter la légende de la représentation graphique"
   ]
  },
  {
   "cell_type": "code",
   "execution_count": 134,
   "metadata": {},
   "outputs": [
    {
     "name": "stdout",
     "output_type": "stream",
     "text": [
      "[7, 8, 9]\n",
      "[-222.0, -1267.0, -4545.0]\n",
      "Erreur de transmission : False\n",
      "[ 9.000e+00 -7.000e+00 -9.000e+00  1.000e+00  3.000e+00  6.000e+00\n",
      " -5.000e+00 -2.220e+02 -1.267e+03 -4.545e+03]\n",
      "[ 9.000e+00  0.000e+00 -9.000e+00  1.000e+00  0.000e+00  6.000e+00\n",
      " -5.000e+00 -2.220e+02 -1.267e+03 -4.545e+03]\n",
      "Erreur de transmission : True\n"
     ]
    }
   ],
   "source": [
    "def detectErreur(k, yt):\n",
    "    n = len(yt)\n",
    "    indices = np.arange(n)\n",
    "    \n",
    "    # Itérer sur tous les sous-ensembles de taille k parmi les n indices\n",
    "    for subset in itertools.combinations(indices, k):\n",
    "        subset = list(subset)\n",
    "        y_subset = [yt[i] for i in subset]\n",
    "        x_subset = np.array(subset)\n",
    "        \n",
    "        # Vérification si toutes les valeurs interpolées s'accordent\n",
    "        interpolated_values = [pol_Lagrange(i, x_subset, y_subset) for i in indices]\n",
    "        if np.allclose(interpolated_values, yt, atol=1e-6):\n",
    "            return False  # Pas d'erreur détectée\n",
    "    \n",
    "    return True  # Erreur détectée\n",
    "\n",
    "\n",
    "k = 7\n",
    "t = 3\n",
    "xm = np.arange(k)\n",
    "m = random.sample(range(-10, 10), k)\n",
    "_,r = lettreSup(t, xm, m)\n",
    "yt = m+r\n",
    "yt = np.asarray(yt)\n",
    "\n",
    "print(\"Erreur de transmission :\", detectErreur(k, yt))\n",
    "\n",
    "#Rajout d'erreurs\n",
    "yError = yt.copy()\n",
    "print(yError)\n",
    "yError[1] = 0\n",
    "yError[4] = 0 \n",
    "print(yError)\n",
    "print(\"Erreur de transmission :\", detectErreur(k, yError))\n"
   ]
  },
  {
   "cell_type": "code",
   "execution_count": 135,
   "metadata": {},
   "outputs": [
    {
     "name": "stdout",
     "output_type": "stream",
     "text": [
      "[0, 1, 2, 3, 4, 5, 6]\n"
     ]
    },
    {
     "data": {
      "image/png": "[encoded data removed]",
      "text/plain": [
       "<Figure size 640x480 with 1 Axes>"
      ]
     },
     "metadata": {},
     "output_type": "display_data"
    }
   ],
   "source": [
    "#Représentation graphique\n",
    "\n",
    "xcont=np.linspace(-.25,len(yt)-0.75,500)\n",
    "plt.scatter(xm,m, color='blue', label = \"?\")\n",
    "plt.scatter(xr,r, color='red', label = \"??\")\n",
    "plt.plot(xcont,pol_Lagrange(xcont,xm,m), color='green', label =\"???\")\n",
    "\n",
    "error = detectErreur(k, yError)\n",
    "if(error):\n",
    "    xt = np.arange(len(yt))\n",
    "    list_s= list(itertools.combinations(xt, k))\n",
    "    s0 = list(list_s[0])\n",
    "    s1 = list(list_s[4])\n",
    "    print(s0)\n",
    "    plt.plot(xcont,pol_Lagrange(xcont,s0,yError[s0]), color='red', label =\"????\")\n",
    "    plt.plot(xcont,pol_Lagrange(xcont,s1,yError[s1]), color='red', linestyle = '--', label = \"?????\")\n",
    "\n",
    "plt.legend(loc='center left', bbox_to_anchor=(1, 0.5))\n",
    "plt.show()"
   ]
  },
  {
   "cell_type": "markdown",
   "metadata": {},
   "source": [
    "La correction d'erreurs est plus subtile.\n",
    "\n",
    "**question 5**\n",
    "\n",
    "Observer ce qui se passe quand on a 1 erreur de transmission. Proposer une fonction de correction en cas d'erreur\n",
    "\n",
    "\n",
    "_python_ on pourra utiliser `sub= list(itertools.combinations(...))` pour construire les sous-ensembles et `from collections import Counter` pour compter les valeurs"
   ]
  },
  {
   "cell_type": "code",
   "execution_count": 136,
   "metadata": {},
   "outputs": [
    {
     "name": "stdout",
     "output_type": "stream",
     "text": [
      "[7, 8, 9]\n",
      "[-114.0, -954.0, -4233.0]\n"
     ]
    },
    {
     "ename": "TypeError",
     "evalue": "cannot unpack non-iterable bool object",
     "output_type": "error",
     "traceback": [
      "\u001b[0;31m---------------------------------------------------------------------------\u001b[0m",
      "\u001b[0;31mTypeError\u001b[0m                                 Traceback (most recent call last)",
      "Cell \u001b[0;32mIn[136], line 34\u001b[0m\n\u001b[1;32m     32\u001b[0m yt \u001b[38;5;241m=\u001b[39m m\u001b[38;5;241m+\u001b[39mr\n\u001b[1;32m     33\u001b[0m yt \u001b[38;5;241m=\u001b[39m np\u001b[38;5;241m.\u001b[39masarray(yt)\n\u001b[0;32m---> 34\u001b[0m \u001b[43mcorrectErreur\u001b[49m\u001b[43m(\u001b[49m\u001b[43mk\u001b[49m\u001b[43m,\u001b[49m\u001b[43myt\u001b[49m\u001b[43m)\u001b[49m\n\u001b[1;32m     36\u001b[0m yError \u001b[38;5;241m=\u001b[39m yt\u001b[38;5;241m.\u001b[39mcopy()\n\u001b[1;32m     37\u001b[0m yError[\u001b[38;5;241m1\u001b[39m] \u001b[38;5;241m=\u001b[39m \u001b[38;5;241m0\u001b[39m\n",
      "Cell \u001b[0;32mIn[136], line 2\u001b[0m, in \u001b[0;36mcorrectErreur\u001b[0;34m(k, yt)\u001b[0m\n\u001b[1;32m      1\u001b[0m \u001b[38;5;28;01mdef\u001b[39;00m \u001b[38;5;21mcorrectErreur\u001b[39m(k, yt):\n\u001b[0;32m----> 2\u001b[0m     erreur, res \u001b[38;5;241m=\u001b[39m detectErreur(k, yt)\n\u001b[1;32m      3\u001b[0m     \u001b[38;5;28;01mif\u001b[39;00m(erreur):\n\u001b[1;32m      4\u001b[0m         \u001b[38;5;66;03m# res map contains as key the full polynomial and as value the number of occurences\u001b[39;00m\n\u001b[1;32m      5\u001b[0m         res_map \u001b[38;5;241m=\u001b[39m Counter()\n",
      "\u001b[0;31mTypeError\u001b[0m: cannot unpack non-iterable bool object"
     ]
    }
   ],
   "source": [
    "def correctErreur(k, yt):\n",
    "    erreur, res = detectErreur(k, yt)\n",
    "    if(erreur):\n",
    "        # res map contains as key the full polynomial and as value the number of occurences\n",
    "        res_map = Counter()\n",
    "\n",
    "        combinaison = itertools.combinations(range(len(yt)), k)\n",
    "        for c in combinaison:\n",
    "            c = list(c)\n",
    "            pol = []\n",
    "\n",
    "            for i in range(k):\n",
    "                pol.append(pol_Lagrange(i, c, yt[c]))\n",
    "\n",
    "            res_map[tuple(pol)] += 1\n",
    "\n",
    "        # print most common polynomial\n",
    "        most_common = res_map.most_common(1)[0][0]\n",
    "\n",
    "        print(most_common)\n",
    "\n",
    " \n",
    "\n",
    "    return yt\n",
    "    \n",
    "    \n",
    "k = 7\n",
    "t = 3\n",
    "xm = np.arange(k)\n",
    "m = random.sample(range(-100, 100), k)\n",
    "_,r = lettreSup(t, xm, m)\n",
    "yt = m+r\n",
    "yt = np.asarray(yt)\n",
    "correctErreur(k,yt)\n",
    "\n",
    "yError = yt.copy()\n",
    "yError[1] = 0\n",
    "print(\"Message avec erreur :\", yError)\n",
    "print(\"Message initial : \", yt)\n",
    "print(\"Message corrigé : \", correctErreur(k,yError))\n"
   ]
  }
 ],
 "metadata": {
  "kernelspec": {
   "display_name": "Python 3 (ipykernel)",
   "language": "python",
   "name": "python3"
  },
  "language_info": {
   "codemirror_mode": {
    "name": "ipython",
    "version": 3
   },
   "file_extension": ".py",
   "mimetype": "text/x-python",
   "name": "python",
   "nbconvert_exporter": "python",
   "pygments_lexer": "ipython3",
   "version": "3.12.3"
  }
 },
 "nbformat": 4,
 "nbformat_minor": 4
}
