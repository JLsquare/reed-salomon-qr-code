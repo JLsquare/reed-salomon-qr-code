{
 "cells": [
  {
   "cell_type": "markdown",
   "metadata": {},
   "source": [
    "# <center> R4.04 Méthodes d'optimisation <br> TP3b - Interpolation polynomiale : le partage de secret </center>\n",
    "<center> 2023/2024 - Tom Ferragut, Thibault Godin & Lucie Naert </center>\n",
    "<center> IUT de Vannes, BUT Informatique </center>"
   ]
  },
  {
   "cell_type": "markdown",
   "metadata": {},
   "source": [
    "Le but de ce TP est de présenter deux applications de l'interpolation polynôminale : le _partage de secret de Shamir_ et un exemple jouet de protocole de _correction d'erreurs_."
   ]
  },
  {
   "cell_type": "code",
   "execution_count": 17,
   "metadata": {},
   "outputs": [],
   "source": [
    "import numpy as np\n",
    "import random\n",
    "\n",
    "# Affichage graphique\n",
    "\n",
    "#%matplotlib notebook \n",
    "# enable interactivity of plots\n",
    "# attention a bien fermer les fenetres plt après chaque visualisalgèbreation\n",
    "\n",
    "%matplotlib inline\n",
    "\n",
    "import itertools\n",
    "\n",
    "import matplotlib.pyplot as plt\n",
    "from mpl_toolkits.mplot3d import Axes3D \n",
    "import matplotlib.colors as mcolors\n",
    "\n",
    "names_col = list(mcolors.XKCD_COLORS)\n",
    "\n",
    "import time\n",
    "\n",
    "from collections import Counter\n",
    "\n"
   ]
  },
  {
   "cell_type": "markdown",
   "metadata": {},
   "source": [
    "On rappelle le théorème central de l'interpolation :\n",
    "\n",
    "\n",
    "<div class=\"alert alert-block alert-info\"><b>Théorème</b> \n",
    "    \n",
    "    \n",
    "Soient $n$ points $(x_1,y_1), ..., (x_n,y_n)$ de $\\mathbb{R}^2$ \n",
    "\n",
    "    \n",
    "Alors il existe un unique polynôme $P_{(x_1,y_1), ..., (x_n,y_n)}$ de degré inférieur ou égal à $n-1$  tel que $P_{(x_1,y_1), ..., (x_n,y_n)}(x_i) = y_i$\n",
    "   \n",
    "</div>\n",
    "\n",
    "Les fonctions suivantes permettent de faire une interpolation polynomiale par la méthode de Lagrange (voir TP3a). Plus précisément, à partir des coordonnées `X` et `Y` des noeuds d'interpolation, `pol_Lagrange(varX,X,Y)` calcule le polynome $P$ passant par tout les noeuds d'interpolation et renvoie $P(varX)$."
   ]
  },
  {
   "cell_type": "code",
   "execution_count": 18,
   "metadata": {},
   "outputs": [],
   "source": [
    "\n",
    "def pol_li(varX,i,X,Y):\n",
    "    li=1\n",
    "    for j in range(len(X)):\n",
    "        if i!=j:\n",
    "            li=li*((varX-X[j])/(X[i]-X[j]))\n",
    "    return Y[i]*li\n",
    "\n",
    "\n",
    "\n",
    "def pol_Lagrange(varX,X,Y):\n",
    "    l=0\n",
    "    for i in range(len(X)):\n",
    "        l=l+pol_li(varX,i,X,Y)\n",
    "        \n",
    "    return np.round(l)"
   ]
  },
  {
   "cell_type": "markdown",
   "metadata": {},
   "source": [
    "## Partage de secret : protocole de Shamir\n",
    "\n",
    "\n",
    "Contexte : \n",
    "supposons qu'on veuille distribuer un secret $S$ (un nombre) à $m$ personnes $p_1, ..., p_m$\n",
    "\n",
    "Le but est que \n",
    "- $n$ personnes (ou plus) peuvent connaître facilement le secret ($n\\leq m$)\n",
    "- $n-1$ personnes (ou moins) ne peuvent pas le découvrir (facilement)\n",
    "\n",
    "\n",
    "L'approche par du Shamir Secret Sharing (SSS)  (simplifiée) est alors :\n",
    "\n",
    "- partage : \n",
    "    - créer un polynôme $P$ de degré $n-1$ tel que $P(0)=S$ en tirant aléatoirement $n-1$ valeurs pour les $P(-k), k \\in \\{1,2,...,n-1\\}$\n",
    "    - attribuer à chaque personne $p_i$, $i \\in \\{1,2,...,m\\}$, la valeur $s_i=P(i)$\n",
    "- reconstruction :\n",
    "    - si $n$ personne $p_{i_1}, ..., p_{i_n}$ créent le polynôme $Q$ interpolant $(i_1,s_{i_1}), ..., (i_n,s_{i_n})$, alors $Q=P$ et donc l'évaluation de ce polynôme en $0$ donne $S$\n",
    "    \n",
    "Les  $s_i$ sont appelés les sous-secrets."
   ]
  },
  {
   "cell_type": "markdown",
   "metadata": {},
   "source": [
    "Remarques : \n",
    "- La version [Wikipedia](https://fr.wikipedia.org/wiki/Partage_de_cl%C3%A9_secr%C3%A8te_de_Shamir) est un peu différente (mais pas plus compliquée) : on choisit au hasard les coefficients du polynome et non des points par lequel passe le polynome.\n",
    " \n",
    "- Si k personnes se regroupent (k > n), le secret pourra quand même être retrouvé car il existe un unique polynome de degrès inf ou égal à k-1 passant par les k points : ce degrés est donc n-1. "
   ]
  },
  {
   "cell_type": "markdown",
   "metadata": {},
   "source": [
    "**Question 1** \n",
    "\n",
    "1. Écrire une fonction `partage(S,m,n)` avec $S$ le secret (un nombre), $m$ le nombre de personnes partageant le secret et $n$ le nombre de personnes nécessaires à la reconstruction du secret. Cette fonction renvoie la liste des $s_i$ pour $i$ allant de $1$ à $m$ ainsi que $X$ (vecteurs des absisses des noeuds d'interpolation) et $Y$ (vecteurs des ordonnées des noeuds d'interpolation). Attention : $X$ et $Y$ n'ont d'intérêts que pour la représentation graphique, ils ne devront pas être utilisés pour la reconstruction.\n",
    "\n",
    "2. Remplir la légende du graphique"
   ]
  },
  {
   "cell_type": "code",
   "execution_count": 19,
   "metadata": {},
   "outputs": [
    {
     "data": {
      "image/png": "[encoded data removed]",
      "text/plain": [
       "<Figure size 640x480 with 1 Axes>"
      ]
     },
     "metadata": {},
     "output_type": "display_data"
    },
    {
     "name": "stdout",
     "output_type": "stream",
     "text": [
      "Voici les sous-secrets à partager :  [1293.0, 5544.0, 15417.0, 34293.0, 66325.0, 116438.0, 190329.0]\n",
      "Ainsi, la personne 1 recevra le sous secret 1293.0\n"
     ]
    }
   ],
   "source": [
    "def partage(S, n, m):\n",
    "  \n",
    "    X = np.arange(0, -n, -1)\n",
    "\n",
    "\n",
    "    Y = np.append([S], np.random.randint(-100, 100, n - 1))\n",
    "\n",
    "\n",
    "    si = [pol_Lagrange(i, X, Y) for i in range(1, m + 1)]\n",
    "\n",
    "\n",
    "\n",
    "\n",
    "    return X,Y,si\n",
    "\n",
    "# Application\n",
    "\n",
    "#secret \n",
    "S=55 \n",
    "\n",
    "#nombre de personnes partageant le secret\n",
    "m=7\n",
    "\n",
    "#nombre de personnes necessaires à la reconstruction\n",
    "n=5\n",
    "\n",
    "\n",
    "X,Y,si = partage(S,n,m)\n",
    "\n",
    "\n",
    "#Représentation graphique\n",
    "tab_x=np.linspace(-n,m+1,500)\n",
    "tab_yLagrange=pol_Lagrange(tab_x,X,Y)\n",
    "pi = np.arange(1,m+1)# Entier de 1 à m inclus\n",
    "plt.plot(tab_x,tab_yLagrange, color='blue', label =\"?\" )\n",
    "plt.scatter(X,Y, color='blue', marker='+',label =\"??\")\n",
    "plt.scatter(pi,si, color='orange', marker='x',label =\"???\")\n",
    "plt.scatter(0,pol_Lagrange(0,X,Y), color='green', marker='o',label =\"????\")\n",
    "plt.legend(loc='center left', bbox_to_anchor=(1, 0.5))\n",
    "plt.ylim(-1000, 1000) #pour voir les détails des points pris au hasard\n",
    "plt.show()\n",
    "\n",
    "print(\"Voici les sous-secrets à partager : \", si)\n",
    "print(\"Ainsi, la personne 1 recevra le sous secret\", si[0])"
   ]
  },
  {
   "cell_type": "markdown",
   "metadata": {},
   "source": [
    "**question 2**\n",
    "\n",
    "1. Écrire une fonction `reconstruction(k,sk)` permettant de retrouver le secret. `k` est la liste des indices des personnes se rassemblant pour partager leur sous-secret ($k \\subset \\{1,2,...,m\\}$). `sk` est la liste des sous-secrets (de même taille que `k`). \n",
    "2. Montrez que vous arrivez à retrouver le secret $S$ quand on a $n$ (ou plus) sous-secrets mais pas quand on en a moins."
   ]
  },
  {
   "cell_type": "code",
   "execution_count": 20,
   "metadata": {},
   "outputs": [
    {
     "name": "stdout",
     "output_type": "stream",
     "text": [
      "Avec 5 sous-secrets, le secret trouvé est 55.0\n"
     ]
    }
   ],
   "source": [
    "def reconstruction(k,sk):\n",
    "    return pol_Lagrange(0,k,sk)\n",
    "\n",
    "\n",
    "S = 55\n",
    "m = 10\n",
    "n = 4\n",
    "_,_,si = partage(S,n,m)\n",
    "\n",
    "\n",
    "k=[1,3,4,5,9] #Choix d'indices entre 1 et m\n",
    "sk = [si[x-1] for x in k] #Décalage des indices car numérotation python\n",
    "print(\"Avec\", len(k),\"sous-secrets, le secret trouvé est\",reconstruction(k,sk))"
   ]
  },
  {
   "cell_type": "code",
   "execution_count": null,
   "metadata": {},
   "outputs": [],
   "source": []
  },
  {
   "cell_type": "code",
   "execution_count": null,
   "metadata": {},
   "outputs": [],
   "source": []
  },
  {
   "cell_type": "code",
   "execution_count": null,
   "metadata": {},
   "outputs": [],
   "source": []
  },
  {
   "cell_type": "markdown",
   "metadata": {},
   "source": [
    "**activité**\n",
    "\n",
    "À l'aide de ce protocole, partager un secret à 6 de vos camarades de manières à ce qu'il faille au moins 3 d'entre-eux pour le reconstruire.\n",
    "\n",
    "\n",
    "----"
   ]
  },
  {
   "cell_type": "markdown",
   "metadata": {},
   "source": [
    "## Suréchantillonage et introduction aux codes de Reed-Solomon\n",
    "\n",
    "\n",
    "Le but de cette partie est de vous donner un protocole de correction d'erreur qui peut-être vu comme une (grosse) simplification des codes de Reed-Solomon.\n",
    "\n",
    "Le principe est le suivant :\n",
    "\n",
    "On veut transmettre un message de $k$ lettres (nombres entiers) $m_0,...,m_{k-1} $ sur un canal bruité.\n",
    "\n",
    "Pour cela, on va transmettre les $k$ lettres plus $t$ lettres supplémentaires $r_0,...,r_{t-1}$, construites comme suit :\n",
    "- on calcule le polynôme d'interpolation $P=P_{(0,m_0),...,(k-1,m_{k-1})}$ \n",
    "- $r_i = P(k+i)$\n",
    "    \n",
    "    \n",
    "On transmet le vecteur $[m_0,...,m_{k-1},r_0,...,r_{t-1}]$\n",
    "\n"
   ]
  },
  {
   "cell_type": "markdown",
   "metadata": {},
   "source": [
    "**question 3**\n",
    "\n",
    "1. Écrire une fonction `lettreSup(t,xm,m)` calculant `r` les $t$ lettres supplémentaires ainsi que `xr` leur indice (les $t$ abscisses des lettres supplémentaires).\n",
    "2. Compléter la légende de la représentation graphique  "
   ]
  },
  {
   "cell_type": "code",
   "execution_count": 21,
   "metadata": {},
   "outputs": [
    {
     "data": {
      "image/png": "[encoded data removed]",
      "text/plain": [
       "<Figure size 640x480 with 1 Axes>"
      ]
     },
     "metadata": {},
     "output_type": "display_data"
    }
   ],
   "source": [
    "def lettreSup(t, xm, m):\n",
    "    xr = np.arange(t) + len(xm)\n",
    "    r = pol_Lagrange(xr, xm, m)\n",
    "\n",
    "    return xr, r\n",
    "\n",
    "\n",
    "\n",
    "k=7\n",
    "t=3\n",
    "\n",
    "xm=np.arange(k) \n",
    "m=random.sample(range(-100, 100), k)\n",
    "\n",
    "xr,r = lettreSup(t, xm, m)\n",
    "\n",
    "#tracé\n",
    "plt.scatter(xm,m, color='blue', label = \"?\")\n",
    "plt.scatter(xr,r, color='red', label = \"??\")\n",
    "\n",
    "xcont=np.linspace(-.25,k+t-0.75,500)\n",
    "plt.plot(xcont,pol_Lagrange(xcont,xm,m), color='green', label =\"???\")\n",
    "plt.legend(loc='center left', bbox_to_anchor=(1, 0.5))\n",
    "plt.show()"
   ]
  },
  {
   "cell_type": "markdown",
   "metadata": {},
   "source": [
    "La détection d'erreur se fait en évaluant tous les polynômes $Q_S$ interpolant un sous-ensemble $S$ de taille $k$ : $S \\subset \\{(0,m_0),...,(k-1,m_{k-1}),(k,r_0),...,(k+t-1,r_{t-1})\\}$\n",
    "\n",
    "\n",
    "Si toutes les valeurs $Q_s(i) , i \\in \\{0,...,k+t-1\\}$ s'accordent, alors il n'y a (très très probablement) pas d'erreur.\n",
    "\n",
    "\n",
    "**question 4**\n",
    "\n",
    "1. Écrire une fonction `detectErreur(k,yt)` où k est le nombre de lettres du message et `yt` est la liste complète des lettres ($[m_0,...,m_{k-1},r_0,...,r_{t-1}]$). Cette fonction renvoie `True` s'il y a une erreur dans le message et `False` s'il n'y a (très très probablement) pas d'erreur.\n",
    "\n",
    "_Astuce python_ : on pourra utiliser `list_s= list(itertools.combinations(...))` pour construire les sous-ensembles.\n",
    "\n",
    "2. Compléter la légende de la représentation graphique"
   ]
  },
  {
   "cell_type": "code",
   "execution_count": 22,
   "metadata": {},
   "outputs": [
    {
     "name": "stdout",
     "output_type": "stream",
     "text": [
      "Erreur de transmission : False\n",
      "[  6.   9.   4.   2.   0. -19. -86.]\n",
      "[  6.   0.   4.   2.   0. -19. -86.]\n",
      "Erreur de transmission : True\n"
     ]
    }
   ],
   "source": [
    "\n",
    "\n",
    "def detectErreur(k, yt):\n",
    "    xt = np.arange(len(yt))\n",
    "    list_s= list(itertools.combinations(xt, k))\n",
    "    res=[]\n",
    "    i = 0\n",
    "    erreur = False\n",
    "    for s in list_s: #on pourrait s'arreter avant mais res servira peut-être ensuite...\n",
    "        s= list(s)\n",
    "        resPol = list(pol_Lagrange(xt,s,yt[s]))\n",
    "        if(resPol not in res):\n",
    "            res.append(resPol); \n",
    "    if len(res) >  1: \n",
    "        erreur = True\n",
    "    return erreur, res\n",
    "\n",
    "\n",
    "k = 7\n",
    "t = 3\n",
    "xm = np.arange(k)\n",
    "m = random.sample(range(-10, 10), k)\n",
    "_,r = lettreSup(t, xm, m)\n",
    "yt = np.append(m, r)\n",
    "yt = np.asarray(yt)\n",
    "\n",
    "print(\"Erreur de transmission :\", detectErreur(k, yt)[0])\n",
    "\n",
    "#Rajout d'erreurs\n",
    "yError = yt.copy()\n",
    "print(yError)\n",
    "yError[1] = 0\n",
    "yError[4] = 0 \n",
    "print(yError)\n",
    "print(\"Erreur de transmission :\", detectErreur(k, yError)[0])\n"
   ]
  },
  {
   "cell_type": "code",
   "execution_count": 23,
   "metadata": {},
   "outputs": [
    {
     "ename": "ValueError",
     "evalue": "x and y must be the same size",
     "output_type": "error",
     "traceback": [
      "\u001b[0;31m---------------------------------------------------------------------------\u001b[0m",
      "\u001b[0;31mValueError\u001b[0m                                Traceback (most recent call last)",
      "Cell \u001b[0;32mIn[23], line 5\u001b[0m\n\u001b[1;32m      3\u001b[0m xcont\u001b[38;5;241m=\u001b[39mnp\u001b[38;5;241m.\u001b[39mlinspace(\u001b[38;5;241m-\u001b[39m\u001b[38;5;241m.25\u001b[39m,\u001b[38;5;28mlen\u001b[39m(yt)\u001b[38;5;241m-\u001b[39m\u001b[38;5;241m0.75\u001b[39m,\u001b[38;5;241m500\u001b[39m)\n\u001b[1;32m      4\u001b[0m plt\u001b[38;5;241m.\u001b[39mscatter(xm,m, color\u001b[38;5;241m=\u001b[39m\u001b[38;5;124m'\u001b[39m\u001b[38;5;124mblue\u001b[39m\u001b[38;5;124m'\u001b[39m, label \u001b[38;5;241m=\u001b[39m \u001b[38;5;124m\"\u001b[39m\u001b[38;5;124m?\u001b[39m\u001b[38;5;124m\"\u001b[39m)\n\u001b[0;32m----> 5\u001b[0m \u001b[43mplt\u001b[49m\u001b[38;5;241;43m.\u001b[39;49m\u001b[43mscatter\u001b[49m\u001b[43m(\u001b[49m\u001b[43mxr\u001b[49m\u001b[43m,\u001b[49m\u001b[43mr\u001b[49m\u001b[43m,\u001b[49m\u001b[43m \u001b[49m\u001b[43mcolor\u001b[49m\u001b[38;5;241;43m=\u001b[39;49m\u001b[38;5;124;43m'\u001b[39;49m\u001b[38;5;124;43mred\u001b[39;49m\u001b[38;5;124;43m'\u001b[39;49m\u001b[43m,\u001b[49m\u001b[43m \u001b[49m\u001b[43mlabel\u001b[49m\u001b[43m \u001b[49m\u001b[38;5;241;43m=\u001b[39;49m\u001b[43m \u001b[49m\u001b[38;5;124;43m\"\u001b[39;49m\u001b[38;5;124;43m??\u001b[39;49m\u001b[38;5;124;43m\"\u001b[39;49m\u001b[43m)\u001b[49m\n\u001b[1;32m      6\u001b[0m plt\u001b[38;5;241m.\u001b[39mplot(xcont,pol_Lagrange(xcont,xm,m), color\u001b[38;5;241m=\u001b[39m\u001b[38;5;124m'\u001b[39m\u001b[38;5;124mgreen\u001b[39m\u001b[38;5;124m'\u001b[39m, label \u001b[38;5;241m=\u001b[39m\u001b[38;5;124m\"\u001b[39m\u001b[38;5;124m???\u001b[39m\u001b[38;5;124m\"\u001b[39m)\n\u001b[1;32m      8\u001b[0m error \u001b[38;5;241m=\u001b[39m detectErreur(k, yError)\n",
      "File \u001b[0;32m/data/Cours/R4/R4.04/.venv/lib/python3.12/site-packages/matplotlib/pyplot.py:3699\u001b[0m, in \u001b[0;36mscatter\u001b[0;34m(x, y, s, c, marker, cmap, norm, vmin, vmax, alpha, linewidths, edgecolors, plotnonfinite, data, **kwargs)\u001b[0m\n\u001b[1;32m   3680\u001b[0m \u001b[38;5;129m@_copy_docstring_and_deprecators\u001b[39m(Axes\u001b[38;5;241m.\u001b[39mscatter)\n\u001b[1;32m   3681\u001b[0m \u001b[38;5;28;01mdef\u001b[39;00m \u001b[38;5;21mscatter\u001b[39m(\n\u001b[1;32m   3682\u001b[0m     x: \u001b[38;5;28mfloat\u001b[39m \u001b[38;5;241m|\u001b[39m ArrayLike,\n\u001b[0;32m   (...)\u001b[0m\n\u001b[1;32m   3697\u001b[0m     \u001b[38;5;241m*\u001b[39m\u001b[38;5;241m*\u001b[39mkwargs,\n\u001b[1;32m   3698\u001b[0m ) \u001b[38;5;241m-\u001b[39m\u001b[38;5;241m>\u001b[39m PathCollection:\n\u001b[0;32m-> 3699\u001b[0m     __ret \u001b[38;5;241m=\u001b[39m \u001b[43mgca\u001b[49m\u001b[43m(\u001b[49m\u001b[43m)\u001b[49m\u001b[38;5;241;43m.\u001b[39;49m\u001b[43mscatter\u001b[49m\u001b[43m(\u001b[49m\n\u001b[1;32m   3700\u001b[0m \u001b[43m        \u001b[49m\u001b[43mx\u001b[49m\u001b[43m,\u001b[49m\n\u001b[1;32m   3701\u001b[0m \u001b[43m        \u001b[49m\u001b[43my\u001b[49m\u001b[43m,\u001b[49m\n\u001b[1;32m   3702\u001b[0m \u001b[43m        \u001b[49m\u001b[43ms\u001b[49m\u001b[38;5;241;43m=\u001b[39;49m\u001b[43ms\u001b[49m\u001b[43m,\u001b[49m\n\u001b[1;32m   3703\u001b[0m \u001b[43m        \u001b[49m\u001b[43mc\u001b[49m\u001b[38;5;241;43m=\u001b[39;49m\u001b[43mc\u001b[49m\u001b[43m,\u001b[49m\n\u001b[1;32m   3704\u001b[0m \u001b[43m        \u001b[49m\u001b[43mmarker\u001b[49m\u001b[38;5;241;43m=\u001b[39;49m\u001b[43mmarker\u001b[49m\u001b[43m,\u001b[49m\n\u001b[1;32m   3705\u001b[0m \u001b[43m        \u001b[49m\u001b[43mcmap\u001b[49m\u001b[38;5;241;43m=\u001b[39;49m\u001b[43mcmap\u001b[49m\u001b[43m,\u001b[49m\n\u001b[1;32m   3706\u001b[0m \u001b[43m        \u001b[49m\u001b[43mnorm\u001b[49m\u001b[38;5;241;43m=\u001b[39;49m\u001b[43mnorm\u001b[49m\u001b[43m,\u001b[49m\n\u001b[1;32m   3707\u001b[0m \u001b[43m        \u001b[49m\u001b[43mvmin\u001b[49m\u001b[38;5;241;43m=\u001b[39;49m\u001b[43mvmin\u001b[49m\u001b[43m,\u001b[49m\n\u001b[1;32m   3708\u001b[0m \u001b[43m        \u001b[49m\u001b[43mvmax\u001b[49m\u001b[38;5;241;43m=\u001b[39;49m\u001b[43mvmax\u001b[49m\u001b[43m,\u001b[49m\n\u001b[1;32m   3709\u001b[0m \u001b[43m        \u001b[49m\u001b[43malpha\u001b[49m\u001b[38;5;241;43m=\u001b[39;49m\u001b[43malpha\u001b[49m\u001b[43m,\u001b[49m\n\u001b[1;32m   3710\u001b[0m \u001b[43m        \u001b[49m\u001b[43mlinewidths\u001b[49m\u001b[38;5;241;43m=\u001b[39;49m\u001b[43mlinewidths\u001b[49m\u001b[43m,\u001b[49m\n\u001b[1;32m   3711\u001b[0m \u001b[43m        \u001b[49m\u001b[43medgecolors\u001b[49m\u001b[38;5;241;43m=\u001b[39;49m\u001b[43medgecolors\u001b[49m\u001b[43m,\u001b[49m\n\u001b[1;32m   3712\u001b[0m \u001b[43m        \u001b[49m\u001b[43mplotnonfinite\u001b[49m\u001b[38;5;241;43m=\u001b[39;49m\u001b[43mplotnonfinite\u001b[49m\u001b[43m,\u001b[49m\n\u001b[1;32m   3713\u001b[0m \u001b[43m        \u001b[49m\u001b[38;5;241;43m*\u001b[39;49m\u001b[38;5;241;43m*\u001b[39;49m\u001b[43m(\u001b[49m\u001b[43m{\u001b[49m\u001b[38;5;124;43m\"\u001b[39;49m\u001b[38;5;124;43mdata\u001b[39;49m\u001b[38;5;124;43m\"\u001b[39;49m\u001b[43m:\u001b[49m\u001b[43m \u001b[49m\u001b[43mdata\u001b[49m\u001b[43m}\u001b[49m\u001b[43m \u001b[49m\u001b[38;5;28;43;01mif\u001b[39;49;00m\u001b[43m \u001b[49m\u001b[43mdata\u001b[49m\u001b[43m \u001b[49m\u001b[38;5;129;43;01mis\u001b[39;49;00m\u001b[43m \u001b[49m\u001b[38;5;129;43;01mnot\u001b[39;49;00m\u001b[43m \u001b[49m\u001b[38;5;28;43;01mNone\u001b[39;49;00m\u001b[43m \u001b[49m\u001b[38;5;28;43;01melse\u001b[39;49;00m\u001b[43m \u001b[49m\u001b[43m{\u001b[49m\u001b[43m}\u001b[49m\u001b[43m)\u001b[49m\u001b[43m,\u001b[49m\n\u001b[1;32m   3714\u001b[0m \u001b[43m        \u001b[49m\u001b[38;5;241;43m*\u001b[39;49m\u001b[38;5;241;43m*\u001b[39;49m\u001b[43mkwargs\u001b[49m\u001b[43m,\u001b[49m\n\u001b[1;32m   3715\u001b[0m \u001b[43m    \u001b[49m\u001b[43m)\u001b[49m\n\u001b[1;32m   3716\u001b[0m     sci(__ret)\n\u001b[1;32m   3717\u001b[0m     \u001b[38;5;28;01mreturn\u001b[39;00m __ret\n",
      "File \u001b[0;32m/data/Cours/R4/R4.04/.venv/lib/python3.12/site-packages/matplotlib/__init__.py:1465\u001b[0m, in \u001b[0;36m_preprocess_data.<locals>.inner\u001b[0;34m(ax, data, *args, **kwargs)\u001b[0m\n\u001b[1;32m   1462\u001b[0m \u001b[38;5;129m@functools\u001b[39m\u001b[38;5;241m.\u001b[39mwraps(func)\n\u001b[1;32m   1463\u001b[0m \u001b[38;5;28;01mdef\u001b[39;00m \u001b[38;5;21minner\u001b[39m(ax, \u001b[38;5;241m*\u001b[39margs, data\u001b[38;5;241m=\u001b[39m\u001b[38;5;28;01mNone\u001b[39;00m, \u001b[38;5;241m*\u001b[39m\u001b[38;5;241m*\u001b[39mkwargs):\n\u001b[1;32m   1464\u001b[0m     \u001b[38;5;28;01mif\u001b[39;00m data \u001b[38;5;129;01mis\u001b[39;00m \u001b[38;5;28;01mNone\u001b[39;00m:\n\u001b[0;32m-> 1465\u001b[0m         \u001b[38;5;28;01mreturn\u001b[39;00m \u001b[43mfunc\u001b[49m\u001b[43m(\u001b[49m\u001b[43max\u001b[49m\u001b[43m,\u001b[49m\u001b[43m \u001b[49m\u001b[38;5;241;43m*\u001b[39;49m\u001b[38;5;28;43mmap\u001b[39;49m\u001b[43m(\u001b[49m\u001b[43msanitize_sequence\u001b[49m\u001b[43m,\u001b[49m\u001b[43m \u001b[49m\u001b[43margs\u001b[49m\u001b[43m)\u001b[49m\u001b[43m,\u001b[49m\u001b[43m \u001b[49m\u001b[38;5;241;43m*\u001b[39;49m\u001b[38;5;241;43m*\u001b[39;49m\u001b[43mkwargs\u001b[49m\u001b[43m)\u001b[49m\n\u001b[1;32m   1467\u001b[0m     bound \u001b[38;5;241m=\u001b[39m new_sig\u001b[38;5;241m.\u001b[39mbind(ax, \u001b[38;5;241m*\u001b[39margs, \u001b[38;5;241m*\u001b[39m\u001b[38;5;241m*\u001b[39mkwargs)\n\u001b[1;32m   1468\u001b[0m     auto_label \u001b[38;5;241m=\u001b[39m (bound\u001b[38;5;241m.\u001b[39marguments\u001b[38;5;241m.\u001b[39mget(label_namer)\n\u001b[1;32m   1469\u001b[0m                   \u001b[38;5;129;01mor\u001b[39;00m bound\u001b[38;5;241m.\u001b[39mkwargs\u001b[38;5;241m.\u001b[39mget(label_namer))\n",
      "File \u001b[0;32m/data/Cours/R4/R4.04/.venv/lib/python3.12/site-packages/matplotlib/axes/_axes.py:4655\u001b[0m, in \u001b[0;36mAxes.scatter\u001b[0;34m(self, x, y, s, c, marker, cmap, norm, vmin, vmax, alpha, linewidths, edgecolors, plotnonfinite, **kwargs)\u001b[0m\n\u001b[1;32m   4653\u001b[0m y \u001b[38;5;241m=\u001b[39m np\u001b[38;5;241m.\u001b[39mma\u001b[38;5;241m.\u001b[39mravel(y)\n\u001b[1;32m   4654\u001b[0m \u001b[38;5;28;01mif\u001b[39;00m x\u001b[38;5;241m.\u001b[39msize \u001b[38;5;241m!=\u001b[39m y\u001b[38;5;241m.\u001b[39msize:\n\u001b[0;32m-> 4655\u001b[0m     \u001b[38;5;28;01mraise\u001b[39;00m \u001b[38;5;167;01mValueError\u001b[39;00m(\u001b[38;5;124m\"\u001b[39m\u001b[38;5;124mx and y must be the same size\u001b[39m\u001b[38;5;124m\"\u001b[39m)\n\u001b[1;32m   4657\u001b[0m \u001b[38;5;28;01mif\u001b[39;00m s \u001b[38;5;129;01mis\u001b[39;00m \u001b[38;5;28;01mNone\u001b[39;00m:\n\u001b[1;32m   4658\u001b[0m     s \u001b[38;5;241m=\u001b[39m (\u001b[38;5;241m20\u001b[39m \u001b[38;5;28;01mif\u001b[39;00m mpl\u001b[38;5;241m.\u001b[39mrcParams[\u001b[38;5;124m'\u001b[39m\u001b[38;5;124m_internal.classic_mode\u001b[39m\u001b[38;5;124m'\u001b[39m] \u001b[38;5;28;01melse\u001b[39;00m\n\u001b[1;32m   4659\u001b[0m          mpl\u001b[38;5;241m.\u001b[39mrcParams[\u001b[38;5;124m'\u001b[39m\u001b[38;5;124mlines.markersize\u001b[39m\u001b[38;5;124m'\u001b[39m] \u001b[38;5;241m*\u001b[39m\u001b[38;5;241m*\u001b[39m \u001b[38;5;241m2.0\u001b[39m)\n",
      "\u001b[0;31mValueError\u001b[0m: x and y must be the same size"
     ]
    },
    {
     "data": {
      "image/png": "[encoded data removed]",
      "text/plain": [
       "<Figure size 640x480 with 1 Axes>"
      ]
     },
     "metadata": {},
     "output_type": "display_data"
    }
   ],
   "source": [
    "#Représentation graphique\n",
    "\n",
    "xcont=np.linspace(-.25,len(yt)-0.75,500)\n",
    "plt.scatter(xm,m, color='blue', label = \"?\")\n",
    "plt.scatter(xr,r, color='red', label = \"??\")\n",
    "plt.plot(xcont,pol_Lagrange(xcont,xm,m), color='green', label =\"???\")\n",
    "\n",
    "error = detectErreur(k, yError)\n",
    "if(error):\n",
    "    xt = np.arange(len(yt))\n",
    "    list_s= list(itertools.combinations(xt, k))\n",
    "    s0 = list(list_s[0])\n",
    "    s1 = list(list_s[4])\n",
    "    print(s0)\n",
    "    plt.plot(xcont,pol_Lagrange(xcont,s0,yError[s0]), color='red', label =\"????\")\n",
    "    plt.plot(xcont,pol_Lagrange(xcont,s1,yError[s1]), color='red', linestyle = '--', label = \"?????\")\n",
    "\n",
    "plt.legend(loc='center left', bbox_to_anchor=(1, 0.5))\n",
    "plt.show()"
   ]
  },
  {
   "cell_type": "markdown",
   "metadata": {},
   "source": [
    "La correction d'erreurs est plus subtile.\n",
    "\n",
    "**question 5**\n",
    "\n",
    "Observer ce qui se passe quand on a 1 erreur de transmission. Proposer une fonction de correction en cas d'erreur\n",
    "\n",
    "\n",
    "_python_ on pourra utiliser `sub= list(itertools.combinations(...))` pour construire les sous-ensembles et `from collections import Counter` pour compter les valeurs"
   ]
  },
  {
   "cell_type": "code",
   "execution_count": null,
   "metadata": {},
   "outputs": [
    {
     "name": "stdout",
     "output_type": "stream",
     "text": [
      "Message avec erreur : [-9.000e+01  0.000e+00 -2.200e+01 -3.000e+00 -1.700e+01 -5.200e+01\n",
      "  6.300e+01  1.270e+02 -1.516e+03 -9.612e+03]\n",
      "Message initial :  [-9.000e+01  5.200e+01 -2.200e+01 -3.000e+00 -1.700e+01 -5.200e+01\n",
      "  6.300e+01  1.270e+02 -1.516e+03 -9.612e+03]\n",
      "(-90.0, 52.0, -22.0, -3.0, -17.0, -52.0, 63.0)\n",
      "Message corrigé :  (-90.0, 52.0, -22.0, -3.0, -17.0, -52.0, 63.0)\n"
     ]
    }
   ],
   "source": [
    "def correctErreur(k, yt):\n",
    "    erreur, res = detectErreur(k, yt)\n",
    "    if(erreur):\n",
    "        # res map contains as key the full polynomial and as value the number of occurences\n",
    "        res_map = Counter()\n",
    "\n",
    "        combinaison = itertools.combinations(range(len(yt)), k)\n",
    "        for c in combinaison:\n",
    "            c = list(c)\n",
    "            pol = []\n",
    "\n",
    "            for i in range(k):\n",
    "                pol.append(pol_Lagrange(i, c, yt[c]))\n",
    "\n",
    "            res_map[tuple(pol)] += 1\n",
    "\n",
    "        # print most common polynomial\n",
    "        most_common = res_map.most_common(1)[0][0]\n",
    "\n",
    "        print(most_common)\n",
    "\n",
    "        return most_common\n",
    "\n",
    " \n",
    "\n",
    "    return yt\n",
    "\n",
    "    \n",
    "    \n",
    "k = 5\n",
    "t = 2\n",
    "xm = np.arange(k)\n",
    "m = [6, 9, 4, 2, 0]\n",
    "_,r = lettreSup(t, xm, m)\n",
    "yt = np.append(m, r)\n",
    "yt = np.asarray(yt)\n",
    "correctErreur(k,yt)\n",
    "\n",
    "yError = yt.copy()\n",
    "yError[1] = 0\n",
    "print(\"Message avec erreur :\", yError)\n",
    "print(\"Message initial : \", yt)\n",
    "print(\"Message corrigé : \", correctErreur(k,yError))\n"
   ]
  },
  {
   "cell_type": "code",
   "execution_count": null,
   "metadata": {},
   "outputs": [],
   "source": []
  },
  {
   "cell_type": "code",
   "execution_count": null,
   "metadata": {},
   "outputs": [
    {
     "name": "stdout",
     "output_type": "stream",
     "text": [
      "2.0\n"
     ]
    }
   ],
   "source": [
    "print(pol_Lagrange(1, [0,1,2], [1,2,3]))"
   ]
  }
 ],
 "metadata": {
  "kernelspec": {
   "display_name": "Python 3 (ipykernel)",
   "language": "python",
   "name": "python3"
  },
  "language_info": {
   "codemirror_mode": {
    "name": "ipython",
    "version": 3
   },
   "file_extension": ".py",
   "mimetype": "text/x-python",
   "name": "python",
   "nbconvert_exporter": "python",
   "pygments_lexer": "ipython3",
   "version": "3.12.3"
  }
 },
 "nbformat": 4,
 "nbformat_minor": 4
}
